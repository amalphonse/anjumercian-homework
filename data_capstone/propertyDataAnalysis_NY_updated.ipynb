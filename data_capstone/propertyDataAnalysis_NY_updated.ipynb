{
  "nbformat": 4,
  "nbformat_minor": 0,
  "metadata": {
    "colab": {
      "provenance": []
    },
    "kernelspec": {
      "name": "python3",
      "display_name": "Python 3"
    }
  },
  "cells": [
    {
      "cell_type": "code",
      "metadata": {
        "id": "e8LVx8SQtU3S",
        "outputId": "415ada1e-4cb6-40e3-810a-7f6918471d3e",
        "colab": {
          "base_uri": "https://localhost:8080/"
        }
      },
      "source": [
        "from google.colab import drive\n",
        "\n",
        "drive.mount('/content/gdrive')"
      ],
      "execution_count": null,
      "outputs": [
        {
          "output_type": "stream",
          "name": "stdout",
          "text": [
            "Mounted at /content/gdrive\n"
          ]
        }
      ]
    },
    {
      "cell_type": "code",
      "metadata": {
        "id": "9uW1BdPx1MH2",
        "outputId": "5851966c-dc04-4340-f6ef-19b16aa26565",
        "colab": {
          "base_uri": "https://localhost:8080/"
        }
      },
      "source": [
        "!ls \"/content/gdrive/My Drive/Python for Exploratory Data Analysis\""
      ],
      "execution_count": null,
      "outputs": [
        {
          "output_type": "stream",
          "name": "stdout",
          "text": [
            " ClimateDataEDA.ipynb\t\t'Python for EDA Workshop.gslides'\n",
            " KPHX.csv\t\t\t titanic.csv\n",
            " properties.csv\t\t\t titanic.ipynb\n",
            " propertyDataAnalysis_NY.ipynb\t weatherdata_phx.ipynb\n"
          ]
        }
      ]
    },
    {
      "cell_type": "code",
      "metadata": {
        "id": "2o_-PgwV1wtw"
      },
      "source": [
        "import pandas as pd\n",
        "import numpy as np\n",
        "import matplotlib.pyplot as plt\n",
        "import seaborn as sns\n",
        "\n",
        "%matplotlib inline"
      ],
      "execution_count": null,
      "outputs": []
    },
    {
      "cell_type": "code",
      "metadata": {
        "id": "WPKZeoQQ19P_"
      },
      "source": [
        "#Load the dataset\n",
        "property_data = pd.read_csv(\"/content/gdrive/My Drive/Python for Exploratory Data Analysis/properties.csv\")"
      ],
      "execution_count": null,
      "outputs": []
    },
    {
      "cell_type": "markdown",
      "source": [
        "EXPLORING THE DATA"
      ],
      "metadata": {
        "id": "Zrl67SeTJ3K7"
      }
    },
    {
      "cell_type": "code",
      "metadata": {
        "id": "ej_sx-FC2Gcn",
        "outputId": "349265cc-f9de-4f0f-f00c-3571f0e04d60",
        "colab": {
          "base_uri": "https://localhost:8080/",
          "height": 363
        }
      },
      "source": [
        "property_data.head(10)"
      ],
      "execution_count": null,
      "outputs": [
        {
          "output_type": "execute_result",
          "data": {
            "text/plain": [
              "            title                address      city state  postal_code  \\\n",
              "0  Condo For Sale   515 W 29th St APT 3N  New York    NY        10001   \n",
              "1  Condo For Sale   515 W 29th St APT 3S  New York    NY        10001   \n",
              "2  Condo For Sale   515 W 29th St APT 5S  New York    NY        10001   \n",
              "3  Condo For Sale    357 W 30TH St APT 2  NEW YORK    NY        10001   \n",
              "4  Condo For Sale      520 W 28th St # 5  New York    NY        10001   \n",
              "5  Condo For Sale     261 W 25th St # 6A  New York    NY        10001   \n",
              "6  Condo For Sale    252 7TH Ave APT 10V  NEW YORK    NY        10001   \n",
              "7  Co-op For Sale   133 W 28th St APT 7B  New York    NY        10001   \n",
              "8  Condo For Sale  1182 Broadway APT 12B  New York    NY        10001   \n",
              "9  Condo For Sale     520 W 28th St # 34  New York    NY        10001   \n",
              "\n",
              "         price         facts and features real estate provider  \\\n",
              "0   $5,250,000  2 bds , 3 ba , 2,133 sqft                  NaN   \n",
              "1   $5,450,000  2 bds , 3 ba , 2,140 sqft                  NaN   \n",
              "2   $5,750,000  2 bds , 3 ba , 2,140 sqft                  NaN   \n",
              "3     $675,000   Studio , 1 ba , 453 sqft    Halstead Property   \n",
              "4   $6,450,000  3 bds , 4 ba , 2,065 sqft                  NaN   \n",
              "5   $1,460,000     1 bd , 1 ba , 720 sqft                  NaN   \n",
              "6   $2,875,000  2 bds , 2 ba , 1,478 sqft                  NaN   \n",
              "7   $1,150,000     1 bd , 1 ba , 900 sqft              Compass   \n",
              "8   $2,450,000     1 bd , 1 ba , 879 sqft      Douglas Elliman   \n",
              "9  $16,000,000  4 bds , 5 ba , 4,023 sqft                  NaN   \n",
              "\n",
              "                                                 url  \n",
              "0  https://www.zillow.com/homedetails/515-W-29th-...  \n",
              "1  https://www.zillow.com/homedetails/515-W-29th-...  \n",
              "2  https://www.zillow.com/homedetails/515-W-29th-...  \n",
              "3  https://www.zillow.com/homedetails/357-W-30TH-...  \n",
              "4  https://www.zillow.com/homedetails/520-W-28th-...  \n",
              "5  https://www.zillow.com/homedetails/261-W-25th-...  \n",
              "6  https://www.zillow.com/homedetails/252-7TH-Ave...  \n",
              "7  https://www.zillow.com/homedetails/133-W-28th-...  \n",
              "8  https://www.zillow.com/homedetails/1182-Broadw...  \n",
              "9  https://www.zillow.com/homedetails/520-W-28th-...  "
            ],
            "text/html": [
              "\n",
              "  <div id=\"df-f85d39ba-0c30-4f46-b4c7-707f352eb647\">\n",
              "    <div class=\"colab-df-container\">\n",
              "      <div>\n",
              "<style scoped>\n",
              "    .dataframe tbody tr th:only-of-type {\n",
              "        vertical-align: middle;\n",
              "    }\n",
              "\n",
              "    .dataframe tbody tr th {\n",
              "        vertical-align: top;\n",
              "    }\n",
              "\n",
              "    .dataframe thead th {\n",
              "        text-align: right;\n",
              "    }\n",
              "</style>\n",
              "<table border=\"1\" class=\"dataframe\">\n",
              "  <thead>\n",
              "    <tr style=\"text-align: right;\">\n",
              "      <th></th>\n",
              "      <th>title</th>\n",
              "      <th>address</th>\n",
              "      <th>city</th>\n",
              "      <th>state</th>\n",
              "      <th>postal_code</th>\n",
              "      <th>price</th>\n",
              "      <th>facts and features</th>\n",
              "      <th>real estate provider</th>\n",
              "      <th>url</th>\n",
              "    </tr>\n",
              "  </thead>\n",
              "  <tbody>\n",
              "    <tr>\n",
              "      <th>0</th>\n",
              "      <td>Condo For Sale</td>\n",
              "      <td>515 W 29th St APT 3N</td>\n",
              "      <td>New York</td>\n",
              "      <td>NY</td>\n",
              "      <td>10001</td>\n",
              "      <td>$5,250,000</td>\n",
              "      <td>2 bds , 3 ba , 2,133 sqft</td>\n",
              "      <td>NaN</td>\n",
              "      <td>https://www.zillow.com/homedetails/515-W-29th-...</td>\n",
              "    </tr>\n",
              "    <tr>\n",
              "      <th>1</th>\n",
              "      <td>Condo For Sale</td>\n",
              "      <td>515 W 29th St APT 3S</td>\n",
              "      <td>New York</td>\n",
              "      <td>NY</td>\n",
              "      <td>10001</td>\n",
              "      <td>$5,450,000</td>\n",
              "      <td>2 bds , 3 ba , 2,140 sqft</td>\n",
              "      <td>NaN</td>\n",
              "      <td>https://www.zillow.com/homedetails/515-W-29th-...</td>\n",
              "    </tr>\n",
              "    <tr>\n",
              "      <th>2</th>\n",
              "      <td>Condo For Sale</td>\n",
              "      <td>515 W 29th St APT 5S</td>\n",
              "      <td>New York</td>\n",
              "      <td>NY</td>\n",
              "      <td>10001</td>\n",
              "      <td>$5,750,000</td>\n",
              "      <td>2 bds , 3 ba , 2,140 sqft</td>\n",
              "      <td>NaN</td>\n",
              "      <td>https://www.zillow.com/homedetails/515-W-29th-...</td>\n",
              "    </tr>\n",
              "    <tr>\n",
              "      <th>3</th>\n",
              "      <td>Condo For Sale</td>\n",
              "      <td>357 W 30TH St APT 2</td>\n",
              "      <td>NEW YORK</td>\n",
              "      <td>NY</td>\n",
              "      <td>10001</td>\n",
              "      <td>$675,000</td>\n",
              "      <td>Studio , 1 ba , 453 sqft</td>\n",
              "      <td>Halstead Property</td>\n",
              "      <td>https://www.zillow.com/homedetails/357-W-30TH-...</td>\n",
              "    </tr>\n",
              "    <tr>\n",
              "      <th>4</th>\n",
              "      <td>Condo For Sale</td>\n",
              "      <td>520 W 28th St # 5</td>\n",
              "      <td>New York</td>\n",
              "      <td>NY</td>\n",
              "      <td>10001</td>\n",
              "      <td>$6,450,000</td>\n",
              "      <td>3 bds , 4 ba , 2,065 sqft</td>\n",
              "      <td>NaN</td>\n",
              "      <td>https://www.zillow.com/homedetails/520-W-28th-...</td>\n",
              "    </tr>\n",
              "    <tr>\n",
              "      <th>5</th>\n",
              "      <td>Condo For Sale</td>\n",
              "      <td>261 W 25th St # 6A</td>\n",
              "      <td>New York</td>\n",
              "      <td>NY</td>\n",
              "      <td>10001</td>\n",
              "      <td>$1,460,000</td>\n",
              "      <td>1 bd , 1 ba , 720 sqft</td>\n",
              "      <td>NaN</td>\n",
              "      <td>https://www.zillow.com/homedetails/261-W-25th-...</td>\n",
              "    </tr>\n",
              "    <tr>\n",
              "      <th>6</th>\n",
              "      <td>Condo For Sale</td>\n",
              "      <td>252 7TH Ave APT 10V</td>\n",
              "      <td>NEW YORK</td>\n",
              "      <td>NY</td>\n",
              "      <td>10001</td>\n",
              "      <td>$2,875,000</td>\n",
              "      <td>2 bds , 2 ba , 1,478 sqft</td>\n",
              "      <td>NaN</td>\n",
              "      <td>https://www.zillow.com/homedetails/252-7TH-Ave...</td>\n",
              "    </tr>\n",
              "    <tr>\n",
              "      <th>7</th>\n",
              "      <td>Co-op For Sale</td>\n",
              "      <td>133 W 28th St APT 7B</td>\n",
              "      <td>New York</td>\n",
              "      <td>NY</td>\n",
              "      <td>10001</td>\n",
              "      <td>$1,150,000</td>\n",
              "      <td>1 bd , 1 ba , 900 sqft</td>\n",
              "      <td>Compass</td>\n",
              "      <td>https://www.zillow.com/homedetails/133-W-28th-...</td>\n",
              "    </tr>\n",
              "    <tr>\n",
              "      <th>8</th>\n",
              "      <td>Condo For Sale</td>\n",
              "      <td>1182 Broadway APT 12B</td>\n",
              "      <td>New York</td>\n",
              "      <td>NY</td>\n",
              "      <td>10001</td>\n",
              "      <td>$2,450,000</td>\n",
              "      <td>1 bd , 1 ba , 879 sqft</td>\n",
              "      <td>Douglas Elliman</td>\n",
              "      <td>https://www.zillow.com/homedetails/1182-Broadw...</td>\n",
              "    </tr>\n",
              "    <tr>\n",
              "      <th>9</th>\n",
              "      <td>Condo For Sale</td>\n",
              "      <td>520 W 28th St # 34</td>\n",
              "      <td>New York</td>\n",
              "      <td>NY</td>\n",
              "      <td>10001</td>\n",
              "      <td>$16,000,000</td>\n",
              "      <td>4 bds , 5 ba , 4,023 sqft</td>\n",
              "      <td>NaN</td>\n",
              "      <td>https://www.zillow.com/homedetails/520-W-28th-...</td>\n",
              "    </tr>\n",
              "  </tbody>\n",
              "</table>\n",
              "</div>\n",
              "      <button class=\"colab-df-convert\" onclick=\"convertToInteractive('df-f85d39ba-0c30-4f46-b4c7-707f352eb647')\"\n",
              "              title=\"Convert this dataframe to an interactive table.\"\n",
              "              style=\"display:none;\">\n",
              "        \n",
              "  <svg xmlns=\"http://www.w3.org/2000/svg\" height=\"24px\"viewBox=\"0 0 24 24\"\n",
              "       width=\"24px\">\n",
              "    <path d=\"M0 0h24v24H0V0z\" fill=\"none\"/>\n",
              "    <path d=\"M18.56 5.44l.94 2.06.94-2.06 2.06-.94-2.06-.94-.94-2.06-.94 2.06-2.06.94zm-11 1L8.5 8.5l.94-2.06 2.06-.94-2.06-.94L8.5 2.5l-.94 2.06-2.06.94zm10 10l.94 2.06.94-2.06 2.06-.94-2.06-.94-.94-2.06-.94 2.06-2.06.94z\"/><path d=\"M17.41 7.96l-1.37-1.37c-.4-.4-.92-.59-1.43-.59-.52 0-1.04.2-1.43.59L10.3 9.45l-7.72 7.72c-.78.78-.78 2.05 0 2.83L4 21.41c.39.39.9.59 1.41.59.51 0 1.02-.2 1.41-.59l7.78-7.78 2.81-2.81c.8-.78.8-2.07 0-2.86zM5.41 20L4 18.59l7.72-7.72 1.47 1.35L5.41 20z\"/>\n",
              "  </svg>\n",
              "      </button>\n",
              "      \n",
              "  <style>\n",
              "    .colab-df-container {\n",
              "      display:flex;\n",
              "      flex-wrap:wrap;\n",
              "      gap: 12px;\n",
              "    }\n",
              "\n",
              "    .colab-df-convert {\n",
              "      background-color: #E8F0FE;\n",
              "      border: none;\n",
              "      border-radius: 50%;\n",
              "      cursor: pointer;\n",
              "      display: none;\n",
              "      fill: #1967D2;\n",
              "      height: 32px;\n",
              "      padding: 0 0 0 0;\n",
              "      width: 32px;\n",
              "    }\n",
              "\n",
              "    .colab-df-convert:hover {\n",
              "      background-color: #E2EBFA;\n",
              "      box-shadow: 0px 1px 2px rgba(60, 64, 67, 0.3), 0px 1px 3px 1px rgba(60, 64, 67, 0.15);\n",
              "      fill: #174EA6;\n",
              "    }\n",
              "\n",
              "    [theme=dark] .colab-df-convert {\n",
              "      background-color: #3B4455;\n",
              "      fill: #D2E3FC;\n",
              "    }\n",
              "\n",
              "    [theme=dark] .colab-df-convert:hover {\n",
              "      background-color: #434B5C;\n",
              "      box-shadow: 0px 1px 3px 1px rgba(0, 0, 0, 0.15);\n",
              "      filter: drop-shadow(0px 1px 2px rgba(0, 0, 0, 0.3));\n",
              "      fill: #FFFFFF;\n",
              "    }\n",
              "  </style>\n",
              "\n",
              "      <script>\n",
              "        const buttonEl =\n",
              "          document.querySelector('#df-f85d39ba-0c30-4f46-b4c7-707f352eb647 button.colab-df-convert');\n",
              "        buttonEl.style.display =\n",
              "          google.colab.kernel.accessAllowed ? 'block' : 'none';\n",
              "\n",
              "        async function convertToInteractive(key) {\n",
              "          const element = document.querySelector('#df-f85d39ba-0c30-4f46-b4c7-707f352eb647');\n",
              "          const dataTable =\n",
              "            await google.colab.kernel.invokeFunction('convertToInteractive',\n",
              "                                                     [key], {});\n",
              "          if (!dataTable) return;\n",
              "\n",
              "          const docLinkHtml = 'Like what you see? Visit the ' +\n",
              "            '<a target=\"_blank\" href=https://colab.research.google.com/notebooks/data_table.ipynb>data table notebook</a>'\n",
              "            + ' to learn more about interactive tables.';\n",
              "          element.innerHTML = '';\n",
              "          dataTable['output_type'] = 'display_data';\n",
              "          await google.colab.output.renderOutput(dataTable, element);\n",
              "          const docLink = document.createElement('div');\n",
              "          docLink.innerHTML = docLinkHtml;\n",
              "          element.appendChild(docLink);\n",
              "        }\n",
              "      </script>\n",
              "    </div>\n",
              "  </div>\n",
              "  "
            ]
          },
          "metadata": {},
          "execution_count": 5
        }
      ]
    },
    {
      "cell_type": "code",
      "source": [
        "property_data.shape"
      ],
      "metadata": {
        "colab": {
          "base_uri": "https://localhost:8080/"
        },
        "id": "-RcyPP7YI6RE",
        "outputId": "22c1673a-be53-4d42-ace5-fe3ba4b3ef58"
      },
      "execution_count": null,
      "outputs": [
        {
          "output_type": "execute_result",
          "data": {
            "text/plain": [
              "(183, 9)"
            ]
          },
          "metadata": {},
          "execution_count": 6
        }
      ]
    },
    {
      "cell_type": "code",
      "source": [
        "property_data.describe()"
      ],
      "metadata": {
        "colab": {
          "base_uri": "https://localhost:8080/",
          "height": 300
        },
        "id": "AqZjF-R6I-2Z",
        "outputId": "e420ba44-6ef7-4c83-c7e3-e16c00e7eb72"
      },
      "execution_count": null,
      "outputs": [
        {
          "output_type": "execute_result",
          "data": {
            "text/plain": [
              "        postal_code\n",
              "count    183.000000\n",
              "mean   10002.464481\n",
              "std        1.137568\n",
              "min    10001.000000\n",
              "25%    10001.000000\n",
              "50%    10002.000000\n",
              "75%    10003.500000\n",
              "max    10004.000000"
            ],
            "text/html": [
              "\n",
              "  <div id=\"df-72efdbfa-2a7c-4662-98bf-cd131e6b9309\">\n",
              "    <div class=\"colab-df-container\">\n",
              "      <div>\n",
              "<style scoped>\n",
              "    .dataframe tbody tr th:only-of-type {\n",
              "        vertical-align: middle;\n",
              "    }\n",
              "\n",
              "    .dataframe tbody tr th {\n",
              "        vertical-align: top;\n",
              "    }\n",
              "\n",
              "    .dataframe thead th {\n",
              "        text-align: right;\n",
              "    }\n",
              "</style>\n",
              "<table border=\"1\" class=\"dataframe\">\n",
              "  <thead>\n",
              "    <tr style=\"text-align: right;\">\n",
              "      <th></th>\n",
              "      <th>postal_code</th>\n",
              "    </tr>\n",
              "  </thead>\n",
              "  <tbody>\n",
              "    <tr>\n",
              "      <th>count</th>\n",
              "      <td>183.000000</td>\n",
              "    </tr>\n",
              "    <tr>\n",
              "      <th>mean</th>\n",
              "      <td>10002.464481</td>\n",
              "    </tr>\n",
              "    <tr>\n",
              "      <th>std</th>\n",
              "      <td>1.137568</td>\n",
              "    </tr>\n",
              "    <tr>\n",
              "      <th>min</th>\n",
              "      <td>10001.000000</td>\n",
              "    </tr>\n",
              "    <tr>\n",
              "      <th>25%</th>\n",
              "      <td>10001.000000</td>\n",
              "    </tr>\n",
              "    <tr>\n",
              "      <th>50%</th>\n",
              "      <td>10002.000000</td>\n",
              "    </tr>\n",
              "    <tr>\n",
              "      <th>75%</th>\n",
              "      <td>10003.500000</td>\n",
              "    </tr>\n",
              "    <tr>\n",
              "      <th>max</th>\n",
              "      <td>10004.000000</td>\n",
              "    </tr>\n",
              "  </tbody>\n",
              "</table>\n",
              "</div>\n",
              "      <button class=\"colab-df-convert\" onclick=\"convertToInteractive('df-72efdbfa-2a7c-4662-98bf-cd131e6b9309')\"\n",
              "              title=\"Convert this dataframe to an interactive table.\"\n",
              "              style=\"display:none;\">\n",
              "        \n",
              "  <svg xmlns=\"http://www.w3.org/2000/svg\" height=\"24px\"viewBox=\"0 0 24 24\"\n",
              "       width=\"24px\">\n",
              "    <path d=\"M0 0h24v24H0V0z\" fill=\"none\"/>\n",
              "    <path d=\"M18.56 5.44l.94 2.06.94-2.06 2.06-.94-2.06-.94-.94-2.06-.94 2.06-2.06.94zm-11 1L8.5 8.5l.94-2.06 2.06-.94-2.06-.94L8.5 2.5l-.94 2.06-2.06.94zm10 10l.94 2.06.94-2.06 2.06-.94-2.06-.94-.94-2.06-.94 2.06-2.06.94z\"/><path d=\"M17.41 7.96l-1.37-1.37c-.4-.4-.92-.59-1.43-.59-.52 0-1.04.2-1.43.59L10.3 9.45l-7.72 7.72c-.78.78-.78 2.05 0 2.83L4 21.41c.39.39.9.59 1.41.59.51 0 1.02-.2 1.41-.59l7.78-7.78 2.81-2.81c.8-.78.8-2.07 0-2.86zM5.41 20L4 18.59l7.72-7.72 1.47 1.35L5.41 20z\"/>\n",
              "  </svg>\n",
              "      </button>\n",
              "      \n",
              "  <style>\n",
              "    .colab-df-container {\n",
              "      display:flex;\n",
              "      flex-wrap:wrap;\n",
              "      gap: 12px;\n",
              "    }\n",
              "\n",
              "    .colab-df-convert {\n",
              "      background-color: #E8F0FE;\n",
              "      border: none;\n",
              "      border-radius: 50%;\n",
              "      cursor: pointer;\n",
              "      display: none;\n",
              "      fill: #1967D2;\n",
              "      height: 32px;\n",
              "      padding: 0 0 0 0;\n",
              "      width: 32px;\n",
              "    }\n",
              "\n",
              "    .colab-df-convert:hover {\n",
              "      background-color: #E2EBFA;\n",
              "      box-shadow: 0px 1px 2px rgba(60, 64, 67, 0.3), 0px 1px 3px 1px rgba(60, 64, 67, 0.15);\n",
              "      fill: #174EA6;\n",
              "    }\n",
              "\n",
              "    [theme=dark] .colab-df-convert {\n",
              "      background-color: #3B4455;\n",
              "      fill: #D2E3FC;\n",
              "    }\n",
              "\n",
              "    [theme=dark] .colab-df-convert:hover {\n",
              "      background-color: #434B5C;\n",
              "      box-shadow: 0px 1px 3px 1px rgba(0, 0, 0, 0.15);\n",
              "      filter: drop-shadow(0px 1px 2px rgba(0, 0, 0, 0.3));\n",
              "      fill: #FFFFFF;\n",
              "    }\n",
              "  </style>\n",
              "\n",
              "      <script>\n",
              "        const buttonEl =\n",
              "          document.querySelector('#df-72efdbfa-2a7c-4662-98bf-cd131e6b9309 button.colab-df-convert');\n",
              "        buttonEl.style.display =\n",
              "          google.colab.kernel.accessAllowed ? 'block' : 'none';\n",
              "\n",
              "        async function convertToInteractive(key) {\n",
              "          const element = document.querySelector('#df-72efdbfa-2a7c-4662-98bf-cd131e6b9309');\n",
              "          const dataTable =\n",
              "            await google.colab.kernel.invokeFunction('convertToInteractive',\n",
              "                                                     [key], {});\n",
              "          if (!dataTable) return;\n",
              "\n",
              "          const docLinkHtml = 'Like what you see? Visit the ' +\n",
              "            '<a target=\"_blank\" href=https://colab.research.google.com/notebooks/data_table.ipynb>data table notebook</a>'\n",
              "            + ' to learn more about interactive tables.';\n",
              "          element.innerHTML = '';\n",
              "          dataTable['output_type'] = 'display_data';\n",
              "          await google.colab.output.renderOutput(dataTable, element);\n",
              "          const docLink = document.createElement('div');\n",
              "          docLink.innerHTML = docLinkHtml;\n",
              "          element.appendChild(docLink);\n",
              "        }\n",
              "      </script>\n",
              "    </div>\n",
              "  </div>\n",
              "  "
            ]
          },
          "metadata": {},
          "execution_count": 7
        }
      ]
    },
    {
      "cell_type": "code",
      "source": [
        "property_data.dtypes #all are strings to get a good read on the data need to convert them to numeric"
      ],
      "metadata": {
        "colab": {
          "base_uri": "https://localhost:8080/"
        },
        "id": "ihWizvOlJmCg",
        "outputId": "29bb16b4-aa19-4e8a-efe2-e174d0fecfbd"
      },
      "execution_count": null,
      "outputs": [
        {
          "output_type": "execute_result",
          "data": {
            "text/plain": [
              "title                   object\n",
              "address                 object\n",
              "city                    object\n",
              "state                   object\n",
              "postal_code              int64\n",
              "price                   object\n",
              "facts and features      object\n",
              "real estate provider    object\n",
              "url                     object\n",
              "dtype: object"
            ]
          },
          "metadata": {},
          "execution_count": 8
        }
      ]
    },
    {
      "cell_type": "code",
      "source": [
        "property_data.isnull().sum() #other than real estate provider no other have null values"
      ],
      "metadata": {
        "colab": {
          "base_uri": "https://localhost:8080/"
        },
        "id": "1LhUj8meJtu0",
        "outputId": "6a579b9d-96bf-4936-df51-e4421bc3da9a"
      },
      "execution_count": null,
      "outputs": [
        {
          "output_type": "execute_result",
          "data": {
            "text/plain": [
              "title                     0\n",
              "address                   0\n",
              "city                      0\n",
              "state                     0\n",
              "postal_code               0\n",
              "price                     0\n",
              "facts and features        0\n",
              "real estate provider    104\n",
              "url                       0\n",
              "dtype: int64"
            ]
          },
          "metadata": {},
          "execution_count": 9
        }
      ]
    },
    {
      "cell_type": "code",
      "source": [
        "#backup copy before i make any changes\n",
        "property_data_copy = property_data.copy()"
      ],
      "metadata": {
        "id": "MK5DyVK-bSgl"
      },
      "execution_count": null,
      "outputs": []
    },
    {
      "cell_type": "code",
      "metadata": {
        "id": "LPRLuefFPPeg"
      },
      "source": [
        "#I am going to try and answer these questions with this data:\n",
        "#The price in relation to how many beds, baths and square feet\n",
        "#the Price is relation to the type of the property\n",
        "#The price in relation to the city and zipcode."
      ],
      "execution_count": null,
      "outputs": []
    },
    {
      "cell_type": "markdown",
      "source": [
        "DATA CLEANING"
      ],
      "metadata": {
        "id": "mqT2S5D2KRc4"
      }
    },
    {
      "cell_type": "code",
      "metadata": {
        "id": "pflvxHoH2KBZ"
      },
      "source": [
        "#drop the url and real estate provider\n",
        "property_data = property_data.drop(['url','real estate provider'],axis=1)\n",
        "\n",
        "#city to lower case\n",
        "property_data['city'] = property_data['city'].str.lower()"
      ],
      "execution_count": null,
      "outputs": []
    },
    {
      "cell_type": "code",
      "metadata": {
        "id": "oD1-kwa93IXP",
        "outputId": "976b5c54-e75a-40b3-f596-4b099789b017",
        "colab": {
          "base_uri": "https://localhost:8080/",
          "height": 206
        }
      },
      "source": [
        "property_data.head()"
      ],
      "execution_count": null,
      "outputs": [
        {
          "output_type": "execute_result",
          "data": {
            "text/plain": [
              "            title               address      city state  postal_code  \\\n",
              "0  Condo For Sale  515 W 29th St APT 3N  new york    NY        10001   \n",
              "1  Condo For Sale  515 W 29th St APT 3S  new york    NY        10001   \n",
              "2  Condo For Sale  515 W 29th St APT 5S  new york    NY        10001   \n",
              "3  Condo For Sale   357 W 30TH St APT 2  new york    NY        10001   \n",
              "4  Condo For Sale     520 W 28th St # 5  new york    NY        10001   \n",
              "\n",
              "        price         facts and features  \n",
              "0  $5,250,000  2 bds , 3 ba , 2,133 sqft  \n",
              "1  $5,450,000  2 bds , 3 ba , 2,140 sqft  \n",
              "2  $5,750,000  2 bds , 3 ba , 2,140 sqft  \n",
              "3    $675,000   Studio , 1 ba , 453 sqft  \n",
              "4  $6,450,000  3 bds , 4 ba , 2,065 sqft  "
            ],
            "text/html": [
              "\n",
              "  <div id=\"df-386efd83-66ff-4880-8288-d91938b8e3f1\">\n",
              "    <div class=\"colab-df-container\">\n",
              "      <div>\n",
              "<style scoped>\n",
              "    .dataframe tbody tr th:only-of-type {\n",
              "        vertical-align: middle;\n",
              "    }\n",
              "\n",
              "    .dataframe tbody tr th {\n",
              "        vertical-align: top;\n",
              "    }\n",
              "\n",
              "    .dataframe thead th {\n",
              "        text-align: right;\n",
              "    }\n",
              "</style>\n",
              "<table border=\"1\" class=\"dataframe\">\n",
              "  <thead>\n",
              "    <tr style=\"text-align: right;\">\n",
              "      <th></th>\n",
              "      <th>title</th>\n",
              "      <th>address</th>\n",
              "      <th>city</th>\n",
              "      <th>state</th>\n",
              "      <th>postal_code</th>\n",
              "      <th>price</th>\n",
              "      <th>facts and features</th>\n",
              "    </tr>\n",
              "  </thead>\n",
              "  <tbody>\n",
              "    <tr>\n",
              "      <th>0</th>\n",
              "      <td>Condo For Sale</td>\n",
              "      <td>515 W 29th St APT 3N</td>\n",
              "      <td>new york</td>\n",
              "      <td>NY</td>\n",
              "      <td>10001</td>\n",
              "      <td>$5,250,000</td>\n",
              "      <td>2 bds , 3 ba , 2,133 sqft</td>\n",
              "    </tr>\n",
              "    <tr>\n",
              "      <th>1</th>\n",
              "      <td>Condo For Sale</td>\n",
              "      <td>515 W 29th St APT 3S</td>\n",
              "      <td>new york</td>\n",
              "      <td>NY</td>\n",
              "      <td>10001</td>\n",
              "      <td>$5,450,000</td>\n",
              "      <td>2 bds , 3 ba , 2,140 sqft</td>\n",
              "    </tr>\n",
              "    <tr>\n",
              "      <th>2</th>\n",
              "      <td>Condo For Sale</td>\n",
              "      <td>515 W 29th St APT 5S</td>\n",
              "      <td>new york</td>\n",
              "      <td>NY</td>\n",
              "      <td>10001</td>\n",
              "      <td>$5,750,000</td>\n",
              "      <td>2 bds , 3 ba , 2,140 sqft</td>\n",
              "    </tr>\n",
              "    <tr>\n",
              "      <th>3</th>\n",
              "      <td>Condo For Sale</td>\n",
              "      <td>357 W 30TH St APT 2</td>\n",
              "      <td>new york</td>\n",
              "      <td>NY</td>\n",
              "      <td>10001</td>\n",
              "      <td>$675,000</td>\n",
              "      <td>Studio , 1 ba , 453 sqft</td>\n",
              "    </tr>\n",
              "    <tr>\n",
              "      <th>4</th>\n",
              "      <td>Condo For Sale</td>\n",
              "      <td>520 W 28th St # 5</td>\n",
              "      <td>new york</td>\n",
              "      <td>NY</td>\n",
              "      <td>10001</td>\n",
              "      <td>$6,450,000</td>\n",
              "      <td>3 bds , 4 ba , 2,065 sqft</td>\n",
              "    </tr>\n",
              "  </tbody>\n",
              "</table>\n",
              "</div>\n",
              "      <button class=\"colab-df-convert\" onclick=\"convertToInteractive('df-386efd83-66ff-4880-8288-d91938b8e3f1')\"\n",
              "              title=\"Convert this dataframe to an interactive table.\"\n",
              "              style=\"display:none;\">\n",
              "        \n",
              "  <svg xmlns=\"http://www.w3.org/2000/svg\" height=\"24px\"viewBox=\"0 0 24 24\"\n",
              "       width=\"24px\">\n",
              "    <path d=\"M0 0h24v24H0V0z\" fill=\"none\"/>\n",
              "    <path d=\"M18.56 5.44l.94 2.06.94-2.06 2.06-.94-2.06-.94-.94-2.06-.94 2.06-2.06.94zm-11 1L8.5 8.5l.94-2.06 2.06-.94-2.06-.94L8.5 2.5l-.94 2.06-2.06.94zm10 10l.94 2.06.94-2.06 2.06-.94-2.06-.94-.94-2.06-.94 2.06-2.06.94z\"/><path d=\"M17.41 7.96l-1.37-1.37c-.4-.4-.92-.59-1.43-.59-.52 0-1.04.2-1.43.59L10.3 9.45l-7.72 7.72c-.78.78-.78 2.05 0 2.83L4 21.41c.39.39.9.59 1.41.59.51 0 1.02-.2 1.41-.59l7.78-7.78 2.81-2.81c.8-.78.8-2.07 0-2.86zM5.41 20L4 18.59l7.72-7.72 1.47 1.35L5.41 20z\"/>\n",
              "  </svg>\n",
              "      </button>\n",
              "      \n",
              "  <style>\n",
              "    .colab-df-container {\n",
              "      display:flex;\n",
              "      flex-wrap:wrap;\n",
              "      gap: 12px;\n",
              "    }\n",
              "\n",
              "    .colab-df-convert {\n",
              "      background-color: #E8F0FE;\n",
              "      border: none;\n",
              "      border-radius: 50%;\n",
              "      cursor: pointer;\n",
              "      display: none;\n",
              "      fill: #1967D2;\n",
              "      height: 32px;\n",
              "      padding: 0 0 0 0;\n",
              "      width: 32px;\n",
              "    }\n",
              "\n",
              "    .colab-df-convert:hover {\n",
              "      background-color: #E2EBFA;\n",
              "      box-shadow: 0px 1px 2px rgba(60, 64, 67, 0.3), 0px 1px 3px 1px rgba(60, 64, 67, 0.15);\n",
              "      fill: #174EA6;\n",
              "    }\n",
              "\n",
              "    [theme=dark] .colab-df-convert {\n",
              "      background-color: #3B4455;\n",
              "      fill: #D2E3FC;\n",
              "    }\n",
              "\n",
              "    [theme=dark] .colab-df-convert:hover {\n",
              "      background-color: #434B5C;\n",
              "      box-shadow: 0px 1px 3px 1px rgba(0, 0, 0, 0.15);\n",
              "      filter: drop-shadow(0px 1px 2px rgba(0, 0, 0, 0.3));\n",
              "      fill: #FFFFFF;\n",
              "    }\n",
              "  </style>\n",
              "\n",
              "      <script>\n",
              "        const buttonEl =\n",
              "          document.querySelector('#df-386efd83-66ff-4880-8288-d91938b8e3f1 button.colab-df-convert');\n",
              "        buttonEl.style.display =\n",
              "          google.colab.kernel.accessAllowed ? 'block' : 'none';\n",
              "\n",
              "        async function convertToInteractive(key) {\n",
              "          const element = document.querySelector('#df-386efd83-66ff-4880-8288-d91938b8e3f1');\n",
              "          const dataTable =\n",
              "            await google.colab.kernel.invokeFunction('convertToInteractive',\n",
              "                                                     [key], {});\n",
              "          if (!dataTable) return;\n",
              "\n",
              "          const docLinkHtml = 'Like what you see? Visit the ' +\n",
              "            '<a target=\"_blank\" href=https://colab.research.google.com/notebooks/data_table.ipynb>data table notebook</a>'\n",
              "            + ' to learn more about interactive tables.';\n",
              "          element.innerHTML = '';\n",
              "          dataTable['output_type'] = 'display_data';\n",
              "          await google.colab.output.renderOutput(dataTable, element);\n",
              "          const docLink = document.createElement('div');\n",
              "          docLink.innerHTML = docLinkHtml;\n",
              "          element.appendChild(docLink);\n",
              "        }\n",
              "      </script>\n",
              "    </div>\n",
              "  </div>\n",
              "  "
            ]
          },
          "metadata": {},
          "execution_count": 13
        }
      ]
    },
    {
      "cell_type": "code",
      "metadata": {
        "id": "ScAI2NMS3bHh"
      },
      "source": [
        "#Creating new columns to splt out the features.\n",
        "new = property_data[\"facts and features\"].str.split(', ', n=2,expand=True)"
      ],
      "execution_count": null,
      "outputs": []
    },
    {
      "cell_type": "code",
      "metadata": {
        "id": "IKgzBqI53b36"
      },
      "source": [
        "property_data['beds'] = new[0]\n",
        "property_data['baths'] = new[1]\n",
        "property_data['sqft'] = new[2]"
      ],
      "execution_count": null,
      "outputs": []
    },
    {
      "cell_type": "code",
      "metadata": {
        "id": "GVQ87lhi3hlc",
        "outputId": "fd504702-bea8-4a7d-f6a8-f843c7bf908f",
        "colab": {
          "base_uri": "https://localhost:8080/",
          "height": 206
        }
      },
      "source": [
        "property_data.head()"
      ],
      "execution_count": null,
      "outputs": [
        {
          "output_type": "execute_result",
          "data": {
            "text/plain": [
              "            title               address      city state  postal_code  \\\n",
              "0  Condo For Sale  515 W 29th St APT 3N  new york    NY        10001   \n",
              "1  Condo For Sale  515 W 29th St APT 3S  new york    NY        10001   \n",
              "2  Condo For Sale  515 W 29th St APT 5S  new york    NY        10001   \n",
              "3  Condo For Sale   357 W 30TH St APT 2  new york    NY        10001   \n",
              "4  Condo For Sale     520 W 28th St # 5  new york    NY        10001   \n",
              "\n",
              "        price         facts and features     beds  baths        sqft  \n",
              "0  $5,250,000  2 bds , 3 ba , 2,133 sqft   2 bds   3 ba   2,133 sqft  \n",
              "1  $5,450,000  2 bds , 3 ba , 2,140 sqft   2 bds   3 ba   2,140 sqft  \n",
              "2  $5,750,000  2 bds , 3 ba , 2,140 sqft   2 bds   3 ba   2,140 sqft  \n",
              "3    $675,000   Studio , 1 ba , 453 sqft  Studio   1 ba     453 sqft  \n",
              "4  $6,450,000  3 bds , 4 ba , 2,065 sqft   3 bds   4 ba   2,065 sqft  "
            ],
            "text/html": [
              "\n",
              "  <div id=\"df-e7b8ab0b-7bbc-4243-8612-35d03bd29798\">\n",
              "    <div class=\"colab-df-container\">\n",
              "      <div>\n",
              "<style scoped>\n",
              "    .dataframe tbody tr th:only-of-type {\n",
              "        vertical-align: middle;\n",
              "    }\n",
              "\n",
              "    .dataframe tbody tr th {\n",
              "        vertical-align: top;\n",
              "    }\n",
              "\n",
              "    .dataframe thead th {\n",
              "        text-align: right;\n",
              "    }\n",
              "</style>\n",
              "<table border=\"1\" class=\"dataframe\">\n",
              "  <thead>\n",
              "    <tr style=\"text-align: right;\">\n",
              "      <th></th>\n",
              "      <th>title</th>\n",
              "      <th>address</th>\n",
              "      <th>city</th>\n",
              "      <th>state</th>\n",
              "      <th>postal_code</th>\n",
              "      <th>price</th>\n",
              "      <th>facts and features</th>\n",
              "      <th>beds</th>\n",
              "      <th>baths</th>\n",
              "      <th>sqft</th>\n",
              "    </tr>\n",
              "  </thead>\n",
              "  <tbody>\n",
              "    <tr>\n",
              "      <th>0</th>\n",
              "      <td>Condo For Sale</td>\n",
              "      <td>515 W 29th St APT 3N</td>\n",
              "      <td>new york</td>\n",
              "      <td>NY</td>\n",
              "      <td>10001</td>\n",
              "      <td>$5,250,000</td>\n",
              "      <td>2 bds , 3 ba , 2,133 sqft</td>\n",
              "      <td>2 bds</td>\n",
              "      <td>3 ba</td>\n",
              "      <td>2,133 sqft</td>\n",
              "    </tr>\n",
              "    <tr>\n",
              "      <th>1</th>\n",
              "      <td>Condo For Sale</td>\n",
              "      <td>515 W 29th St APT 3S</td>\n",
              "      <td>new york</td>\n",
              "      <td>NY</td>\n",
              "      <td>10001</td>\n",
              "      <td>$5,450,000</td>\n",
              "      <td>2 bds , 3 ba , 2,140 sqft</td>\n",
              "      <td>2 bds</td>\n",
              "      <td>3 ba</td>\n",
              "      <td>2,140 sqft</td>\n",
              "    </tr>\n",
              "    <tr>\n",
              "      <th>2</th>\n",
              "      <td>Condo For Sale</td>\n",
              "      <td>515 W 29th St APT 5S</td>\n",
              "      <td>new york</td>\n",
              "      <td>NY</td>\n",
              "      <td>10001</td>\n",
              "      <td>$5,750,000</td>\n",
              "      <td>2 bds , 3 ba , 2,140 sqft</td>\n",
              "      <td>2 bds</td>\n",
              "      <td>3 ba</td>\n",
              "      <td>2,140 sqft</td>\n",
              "    </tr>\n",
              "    <tr>\n",
              "      <th>3</th>\n",
              "      <td>Condo For Sale</td>\n",
              "      <td>357 W 30TH St APT 2</td>\n",
              "      <td>new york</td>\n",
              "      <td>NY</td>\n",
              "      <td>10001</td>\n",
              "      <td>$675,000</td>\n",
              "      <td>Studio , 1 ba , 453 sqft</td>\n",
              "      <td>Studio</td>\n",
              "      <td>1 ba</td>\n",
              "      <td>453 sqft</td>\n",
              "    </tr>\n",
              "    <tr>\n",
              "      <th>4</th>\n",
              "      <td>Condo For Sale</td>\n",
              "      <td>520 W 28th St # 5</td>\n",
              "      <td>new york</td>\n",
              "      <td>NY</td>\n",
              "      <td>10001</td>\n",
              "      <td>$6,450,000</td>\n",
              "      <td>3 bds , 4 ba , 2,065 sqft</td>\n",
              "      <td>3 bds</td>\n",
              "      <td>4 ba</td>\n",
              "      <td>2,065 sqft</td>\n",
              "    </tr>\n",
              "  </tbody>\n",
              "</table>\n",
              "</div>\n",
              "      <button class=\"colab-df-convert\" onclick=\"convertToInteractive('df-e7b8ab0b-7bbc-4243-8612-35d03bd29798')\"\n",
              "              title=\"Convert this dataframe to an interactive table.\"\n",
              "              style=\"display:none;\">\n",
              "        \n",
              "  <svg xmlns=\"http://www.w3.org/2000/svg\" height=\"24px\"viewBox=\"0 0 24 24\"\n",
              "       width=\"24px\">\n",
              "    <path d=\"M0 0h24v24H0V0z\" fill=\"none\"/>\n",
              "    <path d=\"M18.56 5.44l.94 2.06.94-2.06 2.06-.94-2.06-.94-.94-2.06-.94 2.06-2.06.94zm-11 1L8.5 8.5l.94-2.06 2.06-.94-2.06-.94L8.5 2.5l-.94 2.06-2.06.94zm10 10l.94 2.06.94-2.06 2.06-.94-2.06-.94-.94-2.06-.94 2.06-2.06.94z\"/><path d=\"M17.41 7.96l-1.37-1.37c-.4-.4-.92-.59-1.43-.59-.52 0-1.04.2-1.43.59L10.3 9.45l-7.72 7.72c-.78.78-.78 2.05 0 2.83L4 21.41c.39.39.9.59 1.41.59.51 0 1.02-.2 1.41-.59l7.78-7.78 2.81-2.81c.8-.78.8-2.07 0-2.86zM5.41 20L4 18.59l7.72-7.72 1.47 1.35L5.41 20z\"/>\n",
              "  </svg>\n",
              "      </button>\n",
              "      \n",
              "  <style>\n",
              "    .colab-df-container {\n",
              "      display:flex;\n",
              "      flex-wrap:wrap;\n",
              "      gap: 12px;\n",
              "    }\n",
              "\n",
              "    .colab-df-convert {\n",
              "      background-color: #E8F0FE;\n",
              "      border: none;\n",
              "      border-radius: 50%;\n",
              "      cursor: pointer;\n",
              "      display: none;\n",
              "      fill: #1967D2;\n",
              "      height: 32px;\n",
              "      padding: 0 0 0 0;\n",
              "      width: 32px;\n",
              "    }\n",
              "\n",
              "    .colab-df-convert:hover {\n",
              "      background-color: #E2EBFA;\n",
              "      box-shadow: 0px 1px 2px rgba(60, 64, 67, 0.3), 0px 1px 3px 1px rgba(60, 64, 67, 0.15);\n",
              "      fill: #174EA6;\n",
              "    }\n",
              "\n",
              "    [theme=dark] .colab-df-convert {\n",
              "      background-color: #3B4455;\n",
              "      fill: #D2E3FC;\n",
              "    }\n",
              "\n",
              "    [theme=dark] .colab-df-convert:hover {\n",
              "      background-color: #434B5C;\n",
              "      box-shadow: 0px 1px 3px 1px rgba(0, 0, 0, 0.15);\n",
              "      filter: drop-shadow(0px 1px 2px rgba(0, 0, 0, 0.3));\n",
              "      fill: #FFFFFF;\n",
              "    }\n",
              "  </style>\n",
              "\n",
              "      <script>\n",
              "        const buttonEl =\n",
              "          document.querySelector('#df-e7b8ab0b-7bbc-4243-8612-35d03bd29798 button.colab-df-convert');\n",
              "        buttonEl.style.display =\n",
              "          google.colab.kernel.accessAllowed ? 'block' : 'none';\n",
              "\n",
              "        async function convertToInteractive(key) {\n",
              "          const element = document.querySelector('#df-e7b8ab0b-7bbc-4243-8612-35d03bd29798');\n",
              "          const dataTable =\n",
              "            await google.colab.kernel.invokeFunction('convertToInteractive',\n",
              "                                                     [key], {});\n",
              "          if (!dataTable) return;\n",
              "\n",
              "          const docLinkHtml = 'Like what you see? Visit the ' +\n",
              "            '<a target=\"_blank\" href=https://colab.research.google.com/notebooks/data_table.ipynb>data table notebook</a>'\n",
              "            + ' to learn more about interactive tables.';\n",
              "          element.innerHTML = '';\n",
              "          dataTable['output_type'] = 'display_data';\n",
              "          await google.colab.output.renderOutput(dataTable, element);\n",
              "          const docLink = document.createElement('div');\n",
              "          docLink.innerHTML = docLinkHtml;\n",
              "          element.appendChild(docLink);\n",
              "        }\n",
              "      </script>\n",
              "    </div>\n",
              "  </div>\n",
              "  "
            ]
          },
          "metadata": {},
          "execution_count": 16
        }
      ]
    },
    {
      "cell_type": "code",
      "metadata": {
        "id": "i1rpl5cE3NbZ"
      },
      "source": [
        "#Number of beds\n",
        "property_data['beds'] = property_data['beds'].map(lambda x: x.rstrip(' bds'))\n",
        "\n",
        "#number of baths\n",
        "property_data['baths'] = property_data['baths'].map(lambda x: x.rstrip(' ba'))\n",
        "\n",
        "#square ft\n",
        "property_data['sqft'] = property_data['sqft'].map(lambda x: x.rstrip(' sqft'))"
      ],
      "execution_count": null,
      "outputs": []
    },
    {
      "cell_type": "code",
      "metadata": {
        "id": "M3xhRmMh3rvO",
        "outputId": "ffca44a6-d0ef-4647-c304-d7bc2a5ef3f3",
        "colab": {
          "base_uri": "https://localhost:8080/",
          "height": 206
        }
      },
      "source": [
        "property_data.head()"
      ],
      "execution_count": null,
      "outputs": [
        {
          "output_type": "execute_result",
          "data": {
            "text/plain": [
              "            title               address      city state  postal_code  \\\n",
              "0  Condo For Sale  515 W 29th St APT 3N  new york    NY        10001   \n",
              "1  Condo For Sale  515 W 29th St APT 3S  new york    NY        10001   \n",
              "2  Condo For Sale  515 W 29th St APT 5S  new york    NY        10001   \n",
              "3  Condo For Sale   357 W 30TH St APT 2  new york    NY        10001   \n",
              "4  Condo For Sale     520 W 28th St # 5  new york    NY        10001   \n",
              "\n",
              "        price         facts and features    beds baths   sqft  \n",
              "0  $5,250,000  2 bds , 3 ba , 2,133 sqft       2     3  2,133  \n",
              "1  $5,450,000  2 bds , 3 ba , 2,140 sqft       2     3  2,140  \n",
              "2  $5,750,000  2 bds , 3 ba , 2,140 sqft       2     3  2,140  \n",
              "3    $675,000   Studio , 1 ba , 453 sqft  Studio     1    453  \n",
              "4  $6,450,000  3 bds , 4 ba , 2,065 sqft       3     4  2,065  "
            ],
            "text/html": [
              "\n",
              "  <div id=\"df-610caa04-2905-4373-ae1e-b88f6abbf022\">\n",
              "    <div class=\"colab-df-container\">\n",
              "      <div>\n",
              "<style scoped>\n",
              "    .dataframe tbody tr th:only-of-type {\n",
              "        vertical-align: middle;\n",
              "    }\n",
              "\n",
              "    .dataframe tbody tr th {\n",
              "        vertical-align: top;\n",
              "    }\n",
              "\n",
              "    .dataframe thead th {\n",
              "        text-align: right;\n",
              "    }\n",
              "</style>\n",
              "<table border=\"1\" class=\"dataframe\">\n",
              "  <thead>\n",
              "    <tr style=\"text-align: right;\">\n",
              "      <th></th>\n",
              "      <th>title</th>\n",
              "      <th>address</th>\n",
              "      <th>city</th>\n",
              "      <th>state</th>\n",
              "      <th>postal_code</th>\n",
              "      <th>price</th>\n",
              "      <th>facts and features</th>\n",
              "      <th>beds</th>\n",
              "      <th>baths</th>\n",
              "      <th>sqft</th>\n",
              "    </tr>\n",
              "  </thead>\n",
              "  <tbody>\n",
              "    <tr>\n",
              "      <th>0</th>\n",
              "      <td>Condo For Sale</td>\n",
              "      <td>515 W 29th St APT 3N</td>\n",
              "      <td>new york</td>\n",
              "      <td>NY</td>\n",
              "      <td>10001</td>\n",
              "      <td>$5,250,000</td>\n",
              "      <td>2 bds , 3 ba , 2,133 sqft</td>\n",
              "      <td>2</td>\n",
              "      <td>3</td>\n",
              "      <td>2,133</td>\n",
              "    </tr>\n",
              "    <tr>\n",
              "      <th>1</th>\n",
              "      <td>Condo For Sale</td>\n",
              "      <td>515 W 29th St APT 3S</td>\n",
              "      <td>new york</td>\n",
              "      <td>NY</td>\n",
              "      <td>10001</td>\n",
              "      <td>$5,450,000</td>\n",
              "      <td>2 bds , 3 ba , 2,140 sqft</td>\n",
              "      <td>2</td>\n",
              "      <td>3</td>\n",
              "      <td>2,140</td>\n",
              "    </tr>\n",
              "    <tr>\n",
              "      <th>2</th>\n",
              "      <td>Condo For Sale</td>\n",
              "      <td>515 W 29th St APT 5S</td>\n",
              "      <td>new york</td>\n",
              "      <td>NY</td>\n",
              "      <td>10001</td>\n",
              "      <td>$5,750,000</td>\n",
              "      <td>2 bds , 3 ba , 2,140 sqft</td>\n",
              "      <td>2</td>\n",
              "      <td>3</td>\n",
              "      <td>2,140</td>\n",
              "    </tr>\n",
              "    <tr>\n",
              "      <th>3</th>\n",
              "      <td>Condo For Sale</td>\n",
              "      <td>357 W 30TH St APT 2</td>\n",
              "      <td>new york</td>\n",
              "      <td>NY</td>\n",
              "      <td>10001</td>\n",
              "      <td>$675,000</td>\n",
              "      <td>Studio , 1 ba , 453 sqft</td>\n",
              "      <td>Studio</td>\n",
              "      <td>1</td>\n",
              "      <td>453</td>\n",
              "    </tr>\n",
              "    <tr>\n",
              "      <th>4</th>\n",
              "      <td>Condo For Sale</td>\n",
              "      <td>520 W 28th St # 5</td>\n",
              "      <td>new york</td>\n",
              "      <td>NY</td>\n",
              "      <td>10001</td>\n",
              "      <td>$6,450,000</td>\n",
              "      <td>3 bds , 4 ba , 2,065 sqft</td>\n",
              "      <td>3</td>\n",
              "      <td>4</td>\n",
              "      <td>2,065</td>\n",
              "    </tr>\n",
              "  </tbody>\n",
              "</table>\n",
              "</div>\n",
              "      <button class=\"colab-df-convert\" onclick=\"convertToInteractive('df-610caa04-2905-4373-ae1e-b88f6abbf022')\"\n",
              "              title=\"Convert this dataframe to an interactive table.\"\n",
              "              style=\"display:none;\">\n",
              "        \n",
              "  <svg xmlns=\"http://www.w3.org/2000/svg\" height=\"24px\"viewBox=\"0 0 24 24\"\n",
              "       width=\"24px\">\n",
              "    <path d=\"M0 0h24v24H0V0z\" fill=\"none\"/>\n",
              "    <path d=\"M18.56 5.44l.94 2.06.94-2.06 2.06-.94-2.06-.94-.94-2.06-.94 2.06-2.06.94zm-11 1L8.5 8.5l.94-2.06 2.06-.94-2.06-.94L8.5 2.5l-.94 2.06-2.06.94zm10 10l.94 2.06.94-2.06 2.06-.94-2.06-.94-.94-2.06-.94 2.06-2.06.94z\"/><path d=\"M17.41 7.96l-1.37-1.37c-.4-.4-.92-.59-1.43-.59-.52 0-1.04.2-1.43.59L10.3 9.45l-7.72 7.72c-.78.78-.78 2.05 0 2.83L4 21.41c.39.39.9.59 1.41.59.51 0 1.02-.2 1.41-.59l7.78-7.78 2.81-2.81c.8-.78.8-2.07 0-2.86zM5.41 20L4 18.59l7.72-7.72 1.47 1.35L5.41 20z\"/>\n",
              "  </svg>\n",
              "      </button>\n",
              "      \n",
              "  <style>\n",
              "    .colab-df-container {\n",
              "      display:flex;\n",
              "      flex-wrap:wrap;\n",
              "      gap: 12px;\n",
              "    }\n",
              "\n",
              "    .colab-df-convert {\n",
              "      background-color: #E8F0FE;\n",
              "      border: none;\n",
              "      border-radius: 50%;\n",
              "      cursor: pointer;\n",
              "      display: none;\n",
              "      fill: #1967D2;\n",
              "      height: 32px;\n",
              "      padding: 0 0 0 0;\n",
              "      width: 32px;\n",
              "    }\n",
              "\n",
              "    .colab-df-convert:hover {\n",
              "      background-color: #E2EBFA;\n",
              "      box-shadow: 0px 1px 2px rgba(60, 64, 67, 0.3), 0px 1px 3px 1px rgba(60, 64, 67, 0.15);\n",
              "      fill: #174EA6;\n",
              "    }\n",
              "\n",
              "    [theme=dark] .colab-df-convert {\n",
              "      background-color: #3B4455;\n",
              "      fill: #D2E3FC;\n",
              "    }\n",
              "\n",
              "    [theme=dark] .colab-df-convert:hover {\n",
              "      background-color: #434B5C;\n",
              "      box-shadow: 0px 1px 3px 1px rgba(0, 0, 0, 0.15);\n",
              "      filter: drop-shadow(0px 1px 2px rgba(0, 0, 0, 0.3));\n",
              "      fill: #FFFFFF;\n",
              "    }\n",
              "  </style>\n",
              "\n",
              "      <script>\n",
              "        const buttonEl =\n",
              "          document.querySelector('#df-610caa04-2905-4373-ae1e-b88f6abbf022 button.colab-df-convert');\n",
              "        buttonEl.style.display =\n",
              "          google.colab.kernel.accessAllowed ? 'block' : 'none';\n",
              "\n",
              "        async function convertToInteractive(key) {\n",
              "          const element = document.querySelector('#df-610caa04-2905-4373-ae1e-b88f6abbf022');\n",
              "          const dataTable =\n",
              "            await google.colab.kernel.invokeFunction('convertToInteractive',\n",
              "                                                     [key], {});\n",
              "          if (!dataTable) return;\n",
              "\n",
              "          const docLinkHtml = 'Like what you see? Visit the ' +\n",
              "            '<a target=\"_blank\" href=https://colab.research.google.com/notebooks/data_table.ipynb>data table notebook</a>'\n",
              "            + ' to learn more about interactive tables.';\n",
              "          element.innerHTML = '';\n",
              "          dataTable['output_type'] = 'display_data';\n",
              "          await google.colab.output.renderOutput(dataTable, element);\n",
              "          const docLink = document.createElement('div');\n",
              "          docLink.innerHTML = docLinkHtml;\n",
              "          element.appendChild(docLink);\n",
              "        }\n",
              "      </script>\n",
              "    </div>\n",
              "  </div>\n",
              "  "
            ]
          },
          "metadata": {},
          "execution_count": 18
        }
      ]
    },
    {
      "cell_type": "code",
      "source": [
        "property_data.dtypes"
      ],
      "metadata": {
        "colab": {
          "base_uri": "https://localhost:8080/"
        },
        "id": "Ww5kV9AsJ0JC",
        "outputId": "aec78ae5-5fd8-42d9-ed6a-1d3cdc144a59"
      },
      "execution_count": null,
      "outputs": [
        {
          "output_type": "execute_result",
          "data": {
            "text/plain": [
              "title                 object\n",
              "address               object\n",
              "city                  object\n",
              "state                 object\n",
              "postal_code            int64\n",
              "price                 object\n",
              "facts and features    object\n",
              "beds                  object\n",
              "baths                 object\n",
              "sqft                  object\n",
              "dtype: object"
            ]
          },
          "metadata": {},
          "execution_count": 19
        }
      ]
    },
    {
      "cell_type": "markdown",
      "source": [
        "FEATURE TRANSFORMATIONS"
      ],
      "metadata": {
        "id": "Y6XOvmkSRF6X"
      }
    },
    {
      "cell_type": "code",
      "metadata": {
        "id": "pIMC0FG74Ao6"
      },
      "source": [
        "#since now we don't need facts and features drop the column\n",
        "property_data = property_data.drop(['facts and features'],axis=1)"
      ],
      "execution_count": null,
      "outputs": []
    },
    {
      "cell_type": "code",
      "metadata": {
        "id": "wkCc9fEl4OMi",
        "outputId": "7c3287f9-e83b-42d3-b3b0-4cf1c599f2e6",
        "colab": {
          "base_uri": "https://localhost:8080/",
          "height": 206
        }
      },
      "source": [
        "property_data.head()"
      ],
      "execution_count": null,
      "outputs": [
        {
          "output_type": "execute_result",
          "data": {
            "text/plain": [
              "            title               address      city state  postal_code  \\\n",
              "0  Condo For Sale  515 W 29th St APT 3N  new york    NY        10001   \n",
              "1  Condo For Sale  515 W 29th St APT 3S  new york    NY        10001   \n",
              "2  Condo For Sale  515 W 29th St APT 5S  new york    NY        10001   \n",
              "3  Condo For Sale   357 W 30TH St APT 2  new york    NY        10001   \n",
              "4  Condo For Sale     520 W 28th St # 5  new york    NY        10001   \n",
              "\n",
              "        price    beds baths   sqft  \n",
              "0  $5,250,000       2     3  2,133  \n",
              "1  $5,450,000       2     3  2,140  \n",
              "2  $5,750,000       2     3  2,140  \n",
              "3    $675,000  Studio     1    453  \n",
              "4  $6,450,000       3     4  2,065  "
            ],
            "text/html": [
              "\n",
              "  <div id=\"df-c0409a7d-6683-4b07-a8b8-2003bf0d2f0d\">\n",
              "    <div class=\"colab-df-container\">\n",
              "      <div>\n",
              "<style scoped>\n",
              "    .dataframe tbody tr th:only-of-type {\n",
              "        vertical-align: middle;\n",
              "    }\n",
              "\n",
              "    .dataframe tbody tr th {\n",
              "        vertical-align: top;\n",
              "    }\n",
              "\n",
              "    .dataframe thead th {\n",
              "        text-align: right;\n",
              "    }\n",
              "</style>\n",
              "<table border=\"1\" class=\"dataframe\">\n",
              "  <thead>\n",
              "    <tr style=\"text-align: right;\">\n",
              "      <th></th>\n",
              "      <th>title</th>\n",
              "      <th>address</th>\n",
              "      <th>city</th>\n",
              "      <th>state</th>\n",
              "      <th>postal_code</th>\n",
              "      <th>price</th>\n",
              "      <th>beds</th>\n",
              "      <th>baths</th>\n",
              "      <th>sqft</th>\n",
              "    </tr>\n",
              "  </thead>\n",
              "  <tbody>\n",
              "    <tr>\n",
              "      <th>0</th>\n",
              "      <td>Condo For Sale</td>\n",
              "      <td>515 W 29th St APT 3N</td>\n",
              "      <td>new york</td>\n",
              "      <td>NY</td>\n",
              "      <td>10001</td>\n",
              "      <td>$5,250,000</td>\n",
              "      <td>2</td>\n",
              "      <td>3</td>\n",
              "      <td>2,133</td>\n",
              "    </tr>\n",
              "    <tr>\n",
              "      <th>1</th>\n",
              "      <td>Condo For Sale</td>\n",
              "      <td>515 W 29th St APT 3S</td>\n",
              "      <td>new york</td>\n",
              "      <td>NY</td>\n",
              "      <td>10001</td>\n",
              "      <td>$5,450,000</td>\n",
              "      <td>2</td>\n",
              "      <td>3</td>\n",
              "      <td>2,140</td>\n",
              "    </tr>\n",
              "    <tr>\n",
              "      <th>2</th>\n",
              "      <td>Condo For Sale</td>\n",
              "      <td>515 W 29th St APT 5S</td>\n",
              "      <td>new york</td>\n",
              "      <td>NY</td>\n",
              "      <td>10001</td>\n",
              "      <td>$5,750,000</td>\n",
              "      <td>2</td>\n",
              "      <td>3</td>\n",
              "      <td>2,140</td>\n",
              "    </tr>\n",
              "    <tr>\n",
              "      <th>3</th>\n",
              "      <td>Condo For Sale</td>\n",
              "      <td>357 W 30TH St APT 2</td>\n",
              "      <td>new york</td>\n",
              "      <td>NY</td>\n",
              "      <td>10001</td>\n",
              "      <td>$675,000</td>\n",
              "      <td>Studio</td>\n",
              "      <td>1</td>\n",
              "      <td>453</td>\n",
              "    </tr>\n",
              "    <tr>\n",
              "      <th>4</th>\n",
              "      <td>Condo For Sale</td>\n",
              "      <td>520 W 28th St # 5</td>\n",
              "      <td>new york</td>\n",
              "      <td>NY</td>\n",
              "      <td>10001</td>\n",
              "      <td>$6,450,000</td>\n",
              "      <td>3</td>\n",
              "      <td>4</td>\n",
              "      <td>2,065</td>\n",
              "    </tr>\n",
              "  </tbody>\n",
              "</table>\n",
              "</div>\n",
              "      <button class=\"colab-df-convert\" onclick=\"convertToInteractive('df-c0409a7d-6683-4b07-a8b8-2003bf0d2f0d')\"\n",
              "              title=\"Convert this dataframe to an interactive table.\"\n",
              "              style=\"display:none;\">\n",
              "        \n",
              "  <svg xmlns=\"http://www.w3.org/2000/svg\" height=\"24px\"viewBox=\"0 0 24 24\"\n",
              "       width=\"24px\">\n",
              "    <path d=\"M0 0h24v24H0V0z\" fill=\"none\"/>\n",
              "    <path d=\"M18.56 5.44l.94 2.06.94-2.06 2.06-.94-2.06-.94-.94-2.06-.94 2.06-2.06.94zm-11 1L8.5 8.5l.94-2.06 2.06-.94-2.06-.94L8.5 2.5l-.94 2.06-2.06.94zm10 10l.94 2.06.94-2.06 2.06-.94-2.06-.94-.94-2.06-.94 2.06-2.06.94z\"/><path d=\"M17.41 7.96l-1.37-1.37c-.4-.4-.92-.59-1.43-.59-.52 0-1.04.2-1.43.59L10.3 9.45l-7.72 7.72c-.78.78-.78 2.05 0 2.83L4 21.41c.39.39.9.59 1.41.59.51 0 1.02-.2 1.41-.59l7.78-7.78 2.81-2.81c.8-.78.8-2.07 0-2.86zM5.41 20L4 18.59l7.72-7.72 1.47 1.35L5.41 20z\"/>\n",
              "  </svg>\n",
              "      </button>\n",
              "      \n",
              "  <style>\n",
              "    .colab-df-container {\n",
              "      display:flex;\n",
              "      flex-wrap:wrap;\n",
              "      gap: 12px;\n",
              "    }\n",
              "\n",
              "    .colab-df-convert {\n",
              "      background-color: #E8F0FE;\n",
              "      border: none;\n",
              "      border-radius: 50%;\n",
              "      cursor: pointer;\n",
              "      display: none;\n",
              "      fill: #1967D2;\n",
              "      height: 32px;\n",
              "      padding: 0 0 0 0;\n",
              "      width: 32px;\n",
              "    }\n",
              "\n",
              "    .colab-df-convert:hover {\n",
              "      background-color: #E2EBFA;\n",
              "      box-shadow: 0px 1px 2px rgba(60, 64, 67, 0.3), 0px 1px 3px 1px rgba(60, 64, 67, 0.15);\n",
              "      fill: #174EA6;\n",
              "    }\n",
              "\n",
              "    [theme=dark] .colab-df-convert {\n",
              "      background-color: #3B4455;\n",
              "      fill: #D2E3FC;\n",
              "    }\n",
              "\n",
              "    [theme=dark] .colab-df-convert:hover {\n",
              "      background-color: #434B5C;\n",
              "      box-shadow: 0px 1px 3px 1px rgba(0, 0, 0, 0.15);\n",
              "      filter: drop-shadow(0px 1px 2px rgba(0, 0, 0, 0.3));\n",
              "      fill: #FFFFFF;\n",
              "    }\n",
              "  </style>\n",
              "\n",
              "      <script>\n",
              "        const buttonEl =\n",
              "          document.querySelector('#df-c0409a7d-6683-4b07-a8b8-2003bf0d2f0d button.colab-df-convert');\n",
              "        buttonEl.style.display =\n",
              "          google.colab.kernel.accessAllowed ? 'block' : 'none';\n",
              "\n",
              "        async function convertToInteractive(key) {\n",
              "          const element = document.querySelector('#df-c0409a7d-6683-4b07-a8b8-2003bf0d2f0d');\n",
              "          const dataTable =\n",
              "            await google.colab.kernel.invokeFunction('convertToInteractive',\n",
              "                                                     [key], {});\n",
              "          if (!dataTable) return;\n",
              "\n",
              "          const docLinkHtml = 'Like what you see? Visit the ' +\n",
              "            '<a target=\"_blank\" href=https://colab.research.google.com/notebooks/data_table.ipynb>data table notebook</a>'\n",
              "            + ' to learn more about interactive tables.';\n",
              "          element.innerHTML = '';\n",
              "          dataTable['output_type'] = 'display_data';\n",
              "          await google.colab.output.renderOutput(dataTable, element);\n",
              "          const docLink = document.createElement('div');\n",
              "          docLink.innerHTML = docLinkHtml;\n",
              "          element.appendChild(docLink);\n",
              "        }\n",
              "      </script>\n",
              "    </div>\n",
              "  </div>\n",
              "  "
            ]
          },
          "metadata": {},
          "execution_count": 21
        }
      ]
    },
    {
      "cell_type": "code",
      "source": [
        "property_data['beds'] = property_data['beds'].apply(lambda x: '0' if x=='Studio' else x)"
      ],
      "metadata": {
        "id": "5BO_LxmTKUac"
      },
      "execution_count": null,
      "outputs": []
    },
    {
      "cell_type": "code",
      "source": [
        "property_data.head()"
      ],
      "metadata": {
        "colab": {
          "base_uri": "https://localhost:8080/",
          "height": 206
        },
        "id": "0O0FPPCOLAth",
        "outputId": "fce1f331-4d2c-4387-c8fb-0b37e01599c0"
      },
      "execution_count": null,
      "outputs": [
        {
          "output_type": "execute_result",
          "data": {
            "text/plain": [
              "            title               address      city state  postal_code  \\\n",
              "0  Condo For Sale  515 W 29th St APT 3N  new york    NY        10001   \n",
              "1  Condo For Sale  515 W 29th St APT 3S  new york    NY        10001   \n",
              "2  Condo For Sale  515 W 29th St APT 5S  new york    NY        10001   \n",
              "3  Condo For Sale   357 W 30TH St APT 2  new york    NY        10001   \n",
              "4  Condo For Sale     520 W 28th St # 5  new york    NY        10001   \n",
              "\n",
              "        price beds baths   sqft  \n",
              "0  $5,250,000    2     3  2,133  \n",
              "1  $5,450,000    2     3  2,140  \n",
              "2  $5,750,000    2     3  2,140  \n",
              "3    $675,000    0     1    453  \n",
              "4  $6,450,000    3     4  2,065  "
            ],
            "text/html": [
              "\n",
              "  <div id=\"df-94f8f5d0-1eb9-40cb-be06-32a43c0464fa\">\n",
              "    <div class=\"colab-df-container\">\n",
              "      <div>\n",
              "<style scoped>\n",
              "    .dataframe tbody tr th:only-of-type {\n",
              "        vertical-align: middle;\n",
              "    }\n",
              "\n",
              "    .dataframe tbody tr th {\n",
              "        vertical-align: top;\n",
              "    }\n",
              "\n",
              "    .dataframe thead th {\n",
              "        text-align: right;\n",
              "    }\n",
              "</style>\n",
              "<table border=\"1\" class=\"dataframe\">\n",
              "  <thead>\n",
              "    <tr style=\"text-align: right;\">\n",
              "      <th></th>\n",
              "      <th>title</th>\n",
              "      <th>address</th>\n",
              "      <th>city</th>\n",
              "      <th>state</th>\n",
              "      <th>postal_code</th>\n",
              "      <th>price</th>\n",
              "      <th>beds</th>\n",
              "      <th>baths</th>\n",
              "      <th>sqft</th>\n",
              "    </tr>\n",
              "  </thead>\n",
              "  <tbody>\n",
              "    <tr>\n",
              "      <th>0</th>\n",
              "      <td>Condo For Sale</td>\n",
              "      <td>515 W 29th St APT 3N</td>\n",
              "      <td>new york</td>\n",
              "      <td>NY</td>\n",
              "      <td>10001</td>\n",
              "      <td>$5,250,000</td>\n",
              "      <td>2</td>\n",
              "      <td>3</td>\n",
              "      <td>2,133</td>\n",
              "    </tr>\n",
              "    <tr>\n",
              "      <th>1</th>\n",
              "      <td>Condo For Sale</td>\n",
              "      <td>515 W 29th St APT 3S</td>\n",
              "      <td>new york</td>\n",
              "      <td>NY</td>\n",
              "      <td>10001</td>\n",
              "      <td>$5,450,000</td>\n",
              "      <td>2</td>\n",
              "      <td>3</td>\n",
              "      <td>2,140</td>\n",
              "    </tr>\n",
              "    <tr>\n",
              "      <th>2</th>\n",
              "      <td>Condo For Sale</td>\n",
              "      <td>515 W 29th St APT 5S</td>\n",
              "      <td>new york</td>\n",
              "      <td>NY</td>\n",
              "      <td>10001</td>\n",
              "      <td>$5,750,000</td>\n",
              "      <td>2</td>\n",
              "      <td>3</td>\n",
              "      <td>2,140</td>\n",
              "    </tr>\n",
              "    <tr>\n",
              "      <th>3</th>\n",
              "      <td>Condo For Sale</td>\n",
              "      <td>357 W 30TH St APT 2</td>\n",
              "      <td>new york</td>\n",
              "      <td>NY</td>\n",
              "      <td>10001</td>\n",
              "      <td>$675,000</td>\n",
              "      <td>0</td>\n",
              "      <td>1</td>\n",
              "      <td>453</td>\n",
              "    </tr>\n",
              "    <tr>\n",
              "      <th>4</th>\n",
              "      <td>Condo For Sale</td>\n",
              "      <td>520 W 28th St # 5</td>\n",
              "      <td>new york</td>\n",
              "      <td>NY</td>\n",
              "      <td>10001</td>\n",
              "      <td>$6,450,000</td>\n",
              "      <td>3</td>\n",
              "      <td>4</td>\n",
              "      <td>2,065</td>\n",
              "    </tr>\n",
              "  </tbody>\n",
              "</table>\n",
              "</div>\n",
              "      <button class=\"colab-df-convert\" onclick=\"convertToInteractive('df-94f8f5d0-1eb9-40cb-be06-32a43c0464fa')\"\n",
              "              title=\"Convert this dataframe to an interactive table.\"\n",
              "              style=\"display:none;\">\n",
              "        \n",
              "  <svg xmlns=\"http://www.w3.org/2000/svg\" height=\"24px\"viewBox=\"0 0 24 24\"\n",
              "       width=\"24px\">\n",
              "    <path d=\"M0 0h24v24H0V0z\" fill=\"none\"/>\n",
              "    <path d=\"M18.56 5.44l.94 2.06.94-2.06 2.06-.94-2.06-.94-.94-2.06-.94 2.06-2.06.94zm-11 1L8.5 8.5l.94-2.06 2.06-.94-2.06-.94L8.5 2.5l-.94 2.06-2.06.94zm10 10l.94 2.06.94-2.06 2.06-.94-2.06-.94-.94-2.06-.94 2.06-2.06.94z\"/><path d=\"M17.41 7.96l-1.37-1.37c-.4-.4-.92-.59-1.43-.59-.52 0-1.04.2-1.43.59L10.3 9.45l-7.72 7.72c-.78.78-.78 2.05 0 2.83L4 21.41c.39.39.9.59 1.41.59.51 0 1.02-.2 1.41-.59l7.78-7.78 2.81-2.81c.8-.78.8-2.07 0-2.86zM5.41 20L4 18.59l7.72-7.72 1.47 1.35L5.41 20z\"/>\n",
              "  </svg>\n",
              "      </button>\n",
              "      \n",
              "  <style>\n",
              "    .colab-df-container {\n",
              "      display:flex;\n",
              "      flex-wrap:wrap;\n",
              "      gap: 12px;\n",
              "    }\n",
              "\n",
              "    .colab-df-convert {\n",
              "      background-color: #E8F0FE;\n",
              "      border: none;\n",
              "      border-radius: 50%;\n",
              "      cursor: pointer;\n",
              "      display: none;\n",
              "      fill: #1967D2;\n",
              "      height: 32px;\n",
              "      padding: 0 0 0 0;\n",
              "      width: 32px;\n",
              "    }\n",
              "\n",
              "    .colab-df-convert:hover {\n",
              "      background-color: #E2EBFA;\n",
              "      box-shadow: 0px 1px 2px rgba(60, 64, 67, 0.3), 0px 1px 3px 1px rgba(60, 64, 67, 0.15);\n",
              "      fill: #174EA6;\n",
              "    }\n",
              "\n",
              "    [theme=dark] .colab-df-convert {\n",
              "      background-color: #3B4455;\n",
              "      fill: #D2E3FC;\n",
              "    }\n",
              "\n",
              "    [theme=dark] .colab-df-convert:hover {\n",
              "      background-color: #434B5C;\n",
              "      box-shadow: 0px 1px 3px 1px rgba(0, 0, 0, 0.15);\n",
              "      filter: drop-shadow(0px 1px 2px rgba(0, 0, 0, 0.3));\n",
              "      fill: #FFFFFF;\n",
              "    }\n",
              "  </style>\n",
              "\n",
              "      <script>\n",
              "        const buttonEl =\n",
              "          document.querySelector('#df-94f8f5d0-1eb9-40cb-be06-32a43c0464fa button.colab-df-convert');\n",
              "        buttonEl.style.display =\n",
              "          google.colab.kernel.accessAllowed ? 'block' : 'none';\n",
              "\n",
              "        async function convertToInteractive(key) {\n",
              "          const element = document.querySelector('#df-94f8f5d0-1eb9-40cb-be06-32a43c0464fa');\n",
              "          const dataTable =\n",
              "            await google.colab.kernel.invokeFunction('convertToInteractive',\n",
              "                                                     [key], {});\n",
              "          if (!dataTable) return;\n",
              "\n",
              "          const docLinkHtml = 'Like what you see? Visit the ' +\n",
              "            '<a target=\"_blank\" href=https://colab.research.google.com/notebooks/data_table.ipynb>data table notebook</a>'\n",
              "            + ' to learn more about interactive tables.';\n",
              "          element.innerHTML = '';\n",
              "          dataTable['output_type'] = 'display_data';\n",
              "          await google.colab.output.renderOutput(dataTable, element);\n",
              "          const docLink = document.createElement('div');\n",
              "          docLink.innerHTML = docLinkHtml;\n",
              "          element.appendChild(docLink);\n",
              "        }\n",
              "      </script>\n",
              "    </div>\n",
              "  </div>\n",
              "  "
            ]
          },
          "metadata": {},
          "execution_count": 23
        }
      ]
    },
    {
      "cell_type": "code",
      "source": [
        "property_data['beds'] = pd.to_numeric(property_data['beds'])"
      ],
      "metadata": {
        "id": "IVWLaHL_LuRP"
      },
      "execution_count": null,
      "outputs": []
    },
    {
      "cell_type": "code",
      "source": [
        "property_data['baths'] = pd.to_numeric(property_data['baths'])"
      ],
      "metadata": {
        "id": "t5vLpjRwMAZg"
      },
      "execution_count": null,
      "outputs": []
    },
    {
      "cell_type": "code",
      "source": [
        "property_data['sqft'].value_counts()"
      ],
      "metadata": {
        "colab": {
          "base_uri": "https://localhost:8080/"
        },
        "id": "iClvG49WM-GX",
        "outputId": "841c6306-df32-4665-bc87-d495fca3803f"
      },
      "execution_count": null,
      "outputs": [
        {
          "output_type": "execute_result",
          "data": {
            "text/plain": [
              "--       46\n",
              "800       5\n",
              "400       4\n",
              "1,100     3\n",
              "1,690     3\n",
              "         ..\n",
              "1,734     1\n",
              "1,250     1\n",
              "798       1\n",
              "1,175     1\n",
              "940       1\n",
              "Name: sqft, Length: 95, dtype: int64"
            ]
          },
          "metadata": {},
          "execution_count": 26
        }
      ]
    },
    {
      "cell_type": "code",
      "source": [
        "property_data['sqft'] = property_data['sqft'].apply(lambda x: '0' if x=='--' else x)"
      ],
      "metadata": {
        "id": "fomlZKhvNe_0"
      },
      "execution_count": null,
      "outputs": []
    },
    {
      "cell_type": "code",
      "source": [
        "property_data['sqft'] = pd.to_numeric(property_data['sqft'].str.split(',').str.join(''))"
      ],
      "metadata": {
        "id": "34YV_FJqMgNM"
      },
      "execution_count": null,
      "outputs": []
    },
    {
      "cell_type": "code",
      "metadata": {
        "id": "T0Xus1cM4qxS",
        "outputId": "38230e48-8341-4da3-ae45-70ccd8972a82",
        "colab": {
          "base_uri": "https://localhost:8080/",
          "height": 206
        }
      },
      "source": [
        "#To remove the $ from price.\n",
        "property_data['price'] = property_data['price'].map(lambda x: x.lstrip('$'))\n",
        "property_data.head()"
      ],
      "execution_count": null,
      "outputs": [
        {
          "output_type": "execute_result",
          "data": {
            "text/plain": [
              "            title               address      city state  postal_code  \\\n",
              "0  Condo For Sale  515 W 29th St APT 3N  new york    NY        10001   \n",
              "1  Condo For Sale  515 W 29th St APT 3S  new york    NY        10001   \n",
              "2  Condo For Sale  515 W 29th St APT 5S  new york    NY        10001   \n",
              "3  Condo For Sale   357 W 30TH St APT 2  new york    NY        10001   \n",
              "4  Condo For Sale     520 W 28th St # 5  new york    NY        10001   \n",
              "\n",
              "       price  beds  baths  sqft  \n",
              "0  5,250,000     2      3  2133  \n",
              "1  5,450,000     2      3  2140  \n",
              "2  5,750,000     2      3  2140  \n",
              "3    675,000     0      1   453  \n",
              "4  6,450,000     3      4  2065  "
            ],
            "text/html": [
              "\n",
              "  <div id=\"df-74052ed9-9c16-4cb7-be8f-3df0b956e622\">\n",
              "    <div class=\"colab-df-container\">\n",
              "      <div>\n",
              "<style scoped>\n",
              "    .dataframe tbody tr th:only-of-type {\n",
              "        vertical-align: middle;\n",
              "    }\n",
              "\n",
              "    .dataframe tbody tr th {\n",
              "        vertical-align: top;\n",
              "    }\n",
              "\n",
              "    .dataframe thead th {\n",
              "        text-align: right;\n",
              "    }\n",
              "</style>\n",
              "<table border=\"1\" class=\"dataframe\">\n",
              "  <thead>\n",
              "    <tr style=\"text-align: right;\">\n",
              "      <th></th>\n",
              "      <th>title</th>\n",
              "      <th>address</th>\n",
              "      <th>city</th>\n",
              "      <th>state</th>\n",
              "      <th>postal_code</th>\n",
              "      <th>price</th>\n",
              "      <th>beds</th>\n",
              "      <th>baths</th>\n",
              "      <th>sqft</th>\n",
              "    </tr>\n",
              "  </thead>\n",
              "  <tbody>\n",
              "    <tr>\n",
              "      <th>0</th>\n",
              "      <td>Condo For Sale</td>\n",
              "      <td>515 W 29th St APT 3N</td>\n",
              "      <td>new york</td>\n",
              "      <td>NY</td>\n",
              "      <td>10001</td>\n",
              "      <td>5,250,000</td>\n",
              "      <td>2</td>\n",
              "      <td>3</td>\n",
              "      <td>2133</td>\n",
              "    </tr>\n",
              "    <tr>\n",
              "      <th>1</th>\n",
              "      <td>Condo For Sale</td>\n",
              "      <td>515 W 29th St APT 3S</td>\n",
              "      <td>new york</td>\n",
              "      <td>NY</td>\n",
              "      <td>10001</td>\n",
              "      <td>5,450,000</td>\n",
              "      <td>2</td>\n",
              "      <td>3</td>\n",
              "      <td>2140</td>\n",
              "    </tr>\n",
              "    <tr>\n",
              "      <th>2</th>\n",
              "      <td>Condo For Sale</td>\n",
              "      <td>515 W 29th St APT 5S</td>\n",
              "      <td>new york</td>\n",
              "      <td>NY</td>\n",
              "      <td>10001</td>\n",
              "      <td>5,750,000</td>\n",
              "      <td>2</td>\n",
              "      <td>3</td>\n",
              "      <td>2140</td>\n",
              "    </tr>\n",
              "    <tr>\n",
              "      <th>3</th>\n",
              "      <td>Condo For Sale</td>\n",
              "      <td>357 W 30TH St APT 2</td>\n",
              "      <td>new york</td>\n",
              "      <td>NY</td>\n",
              "      <td>10001</td>\n",
              "      <td>675,000</td>\n",
              "      <td>0</td>\n",
              "      <td>1</td>\n",
              "      <td>453</td>\n",
              "    </tr>\n",
              "    <tr>\n",
              "      <th>4</th>\n",
              "      <td>Condo For Sale</td>\n",
              "      <td>520 W 28th St # 5</td>\n",
              "      <td>new york</td>\n",
              "      <td>NY</td>\n",
              "      <td>10001</td>\n",
              "      <td>6,450,000</td>\n",
              "      <td>3</td>\n",
              "      <td>4</td>\n",
              "      <td>2065</td>\n",
              "    </tr>\n",
              "  </tbody>\n",
              "</table>\n",
              "</div>\n",
              "      <button class=\"colab-df-convert\" onclick=\"convertToInteractive('df-74052ed9-9c16-4cb7-be8f-3df0b956e622')\"\n",
              "              title=\"Convert this dataframe to an interactive table.\"\n",
              "              style=\"display:none;\">\n",
              "        \n",
              "  <svg xmlns=\"http://www.w3.org/2000/svg\" height=\"24px\"viewBox=\"0 0 24 24\"\n",
              "       width=\"24px\">\n",
              "    <path d=\"M0 0h24v24H0V0z\" fill=\"none\"/>\n",
              "    <path d=\"M18.56 5.44l.94 2.06.94-2.06 2.06-.94-2.06-.94-.94-2.06-.94 2.06-2.06.94zm-11 1L8.5 8.5l.94-2.06 2.06-.94-2.06-.94L8.5 2.5l-.94 2.06-2.06.94zm10 10l.94 2.06.94-2.06 2.06-.94-2.06-.94-.94-2.06-.94 2.06-2.06.94z\"/><path d=\"M17.41 7.96l-1.37-1.37c-.4-.4-.92-.59-1.43-.59-.52 0-1.04.2-1.43.59L10.3 9.45l-7.72 7.72c-.78.78-.78 2.05 0 2.83L4 21.41c.39.39.9.59 1.41.59.51 0 1.02-.2 1.41-.59l7.78-7.78 2.81-2.81c.8-.78.8-2.07 0-2.86zM5.41 20L4 18.59l7.72-7.72 1.47 1.35L5.41 20z\"/>\n",
              "  </svg>\n",
              "      </button>\n",
              "      \n",
              "  <style>\n",
              "    .colab-df-container {\n",
              "      display:flex;\n",
              "      flex-wrap:wrap;\n",
              "      gap: 12px;\n",
              "    }\n",
              "\n",
              "    .colab-df-convert {\n",
              "      background-color: #E8F0FE;\n",
              "      border: none;\n",
              "      border-radius: 50%;\n",
              "      cursor: pointer;\n",
              "      display: none;\n",
              "      fill: #1967D2;\n",
              "      height: 32px;\n",
              "      padding: 0 0 0 0;\n",
              "      width: 32px;\n",
              "    }\n",
              "\n",
              "    .colab-df-convert:hover {\n",
              "      background-color: #E2EBFA;\n",
              "      box-shadow: 0px 1px 2px rgba(60, 64, 67, 0.3), 0px 1px 3px 1px rgba(60, 64, 67, 0.15);\n",
              "      fill: #174EA6;\n",
              "    }\n",
              "\n",
              "    [theme=dark] .colab-df-convert {\n",
              "      background-color: #3B4455;\n",
              "      fill: #D2E3FC;\n",
              "    }\n",
              "\n",
              "    [theme=dark] .colab-df-convert:hover {\n",
              "      background-color: #434B5C;\n",
              "      box-shadow: 0px 1px 3px 1px rgba(0, 0, 0, 0.15);\n",
              "      filter: drop-shadow(0px 1px 2px rgba(0, 0, 0, 0.3));\n",
              "      fill: #FFFFFF;\n",
              "    }\n",
              "  </style>\n",
              "\n",
              "      <script>\n",
              "        const buttonEl =\n",
              "          document.querySelector('#df-74052ed9-9c16-4cb7-be8f-3df0b956e622 button.colab-df-convert');\n",
              "        buttonEl.style.display =\n",
              "          google.colab.kernel.accessAllowed ? 'block' : 'none';\n",
              "\n",
              "        async function convertToInteractive(key) {\n",
              "          const element = document.querySelector('#df-74052ed9-9c16-4cb7-be8f-3df0b956e622');\n",
              "          const dataTable =\n",
              "            await google.colab.kernel.invokeFunction('convertToInteractive',\n",
              "                                                     [key], {});\n",
              "          if (!dataTable) return;\n",
              "\n",
              "          const docLinkHtml = 'Like what you see? Visit the ' +\n",
              "            '<a target=\"_blank\" href=https://colab.research.google.com/notebooks/data_table.ipynb>data table notebook</a>'\n",
              "            + ' to learn more about interactive tables.';\n",
              "          element.innerHTML = '';\n",
              "          dataTable['output_type'] = 'display_data';\n",
              "          await google.colab.output.renderOutput(dataTable, element);\n",
              "          const docLink = document.createElement('div');\n",
              "          docLink.innerHTML = docLinkHtml;\n",
              "          element.appendChild(docLink);\n",
              "        }\n",
              "      </script>\n",
              "    </div>\n",
              "  </div>\n",
              "  "
            ]
          },
          "metadata": {},
          "execution_count": 29
        }
      ]
    },
    {
      "cell_type": "code",
      "source": [
        "property_data['price'] = pd.to_numeric(property_data['price'].str.split(',').str.join('')) #removing the commas and converting the columns to numeric"
      ],
      "metadata": {
        "id": "nmcrnIMLw-Mt"
      },
      "execution_count": null,
      "outputs": []
    },
    {
      "cell_type": "code",
      "source": [
        "property_data.dtypes"
      ],
      "metadata": {
        "colab": {
          "base_uri": "https://localhost:8080/"
        },
        "id": "hpvnZtuQL4rU",
        "outputId": "74959a1c-dc88-4597-a3ee-cc21eac68ed9"
      },
      "execution_count": null,
      "outputs": [
        {
          "output_type": "execute_result",
          "data": {
            "text/plain": [
              "title          object\n",
              "address        object\n",
              "city           object\n",
              "state          object\n",
              "postal_code     int64\n",
              "price           int64\n",
              "beds            int64\n",
              "baths           int64\n",
              "sqft            int64\n",
              "dtype: object"
            ]
          },
          "metadata": {},
          "execution_count": 31
        }
      ]
    },
    {
      "cell_type": "code",
      "metadata": {
        "id": "prZpHptR4yLj"
      },
      "source": [
        "#To get the type of property for sale from title.\n",
        "new_type = property_data[\"title\"].str.split(' ', n=2,expand=True)"
      ],
      "execution_count": null,
      "outputs": []
    },
    {
      "cell_type": "code",
      "metadata": {
        "id": "tK983ZG_40ep",
        "outputId": "15c4f251-1629-49aa-ec1a-73d184257595",
        "colab": {
          "base_uri": "https://localhost:8080/",
          "height": 206
        }
      },
      "source": [
        "property_data['type'] = new_type[0]\n",
        "property_data.head()"
      ],
      "execution_count": null,
      "outputs": [
        {
          "output_type": "execute_result",
          "data": {
            "text/plain": [
              "            title               address      city state  postal_code    price  \\\n",
              "0  Condo For Sale  515 W 29th St APT 3N  new york    NY        10001  5250000   \n",
              "1  Condo For Sale  515 W 29th St APT 3S  new york    NY        10001  5450000   \n",
              "2  Condo For Sale  515 W 29th St APT 5S  new york    NY        10001  5750000   \n",
              "3  Condo For Sale   357 W 30TH St APT 2  new york    NY        10001   675000   \n",
              "4  Condo For Sale     520 W 28th St # 5  new york    NY        10001  6450000   \n",
              "\n",
              "   beds  baths  sqft   type  \n",
              "0     2      3  2133  Condo  \n",
              "1     2      3  2140  Condo  \n",
              "2     2      3  2140  Condo  \n",
              "3     0      1   453  Condo  \n",
              "4     3      4  2065  Condo  "
            ],
            "text/html": [
              "\n",
              "  <div id=\"df-b476e6c6-4cec-4f78-99f5-f297f2485d1b\">\n",
              "    <div class=\"colab-df-container\">\n",
              "      <div>\n",
              "<style scoped>\n",
              "    .dataframe tbody tr th:only-of-type {\n",
              "        vertical-align: middle;\n",
              "    }\n",
              "\n",
              "    .dataframe tbody tr th {\n",
              "        vertical-align: top;\n",
              "    }\n",
              "\n",
              "    .dataframe thead th {\n",
              "        text-align: right;\n",
              "    }\n",
              "</style>\n",
              "<table border=\"1\" class=\"dataframe\">\n",
              "  <thead>\n",
              "    <tr style=\"text-align: right;\">\n",
              "      <th></th>\n",
              "      <th>title</th>\n",
              "      <th>address</th>\n",
              "      <th>city</th>\n",
              "      <th>state</th>\n",
              "      <th>postal_code</th>\n",
              "      <th>price</th>\n",
              "      <th>beds</th>\n",
              "      <th>baths</th>\n",
              "      <th>sqft</th>\n",
              "      <th>type</th>\n",
              "    </tr>\n",
              "  </thead>\n",
              "  <tbody>\n",
              "    <tr>\n",
              "      <th>0</th>\n",
              "      <td>Condo For Sale</td>\n",
              "      <td>515 W 29th St APT 3N</td>\n",
              "      <td>new york</td>\n",
              "      <td>NY</td>\n",
              "      <td>10001</td>\n",
              "      <td>5250000</td>\n",
              "      <td>2</td>\n",
              "      <td>3</td>\n",
              "      <td>2133</td>\n",
              "      <td>Condo</td>\n",
              "    </tr>\n",
              "    <tr>\n",
              "      <th>1</th>\n",
              "      <td>Condo For Sale</td>\n",
              "      <td>515 W 29th St APT 3S</td>\n",
              "      <td>new york</td>\n",
              "      <td>NY</td>\n",
              "      <td>10001</td>\n",
              "      <td>5450000</td>\n",
              "      <td>2</td>\n",
              "      <td>3</td>\n",
              "      <td>2140</td>\n",
              "      <td>Condo</td>\n",
              "    </tr>\n",
              "    <tr>\n",
              "      <th>2</th>\n",
              "      <td>Condo For Sale</td>\n",
              "      <td>515 W 29th St APT 5S</td>\n",
              "      <td>new york</td>\n",
              "      <td>NY</td>\n",
              "      <td>10001</td>\n",
              "      <td>5750000</td>\n",
              "      <td>2</td>\n",
              "      <td>3</td>\n",
              "      <td>2140</td>\n",
              "      <td>Condo</td>\n",
              "    </tr>\n",
              "    <tr>\n",
              "      <th>3</th>\n",
              "      <td>Condo For Sale</td>\n",
              "      <td>357 W 30TH St APT 2</td>\n",
              "      <td>new york</td>\n",
              "      <td>NY</td>\n",
              "      <td>10001</td>\n",
              "      <td>675000</td>\n",
              "      <td>0</td>\n",
              "      <td>1</td>\n",
              "      <td>453</td>\n",
              "      <td>Condo</td>\n",
              "    </tr>\n",
              "    <tr>\n",
              "      <th>4</th>\n",
              "      <td>Condo For Sale</td>\n",
              "      <td>520 W 28th St # 5</td>\n",
              "      <td>new york</td>\n",
              "      <td>NY</td>\n",
              "      <td>10001</td>\n",
              "      <td>6450000</td>\n",
              "      <td>3</td>\n",
              "      <td>4</td>\n",
              "      <td>2065</td>\n",
              "      <td>Condo</td>\n",
              "    </tr>\n",
              "  </tbody>\n",
              "</table>\n",
              "</div>\n",
              "      <button class=\"colab-df-convert\" onclick=\"convertToInteractive('df-b476e6c6-4cec-4f78-99f5-f297f2485d1b')\"\n",
              "              title=\"Convert this dataframe to an interactive table.\"\n",
              "              style=\"display:none;\">\n",
              "        \n",
              "  <svg xmlns=\"http://www.w3.org/2000/svg\" height=\"24px\"viewBox=\"0 0 24 24\"\n",
              "       width=\"24px\">\n",
              "    <path d=\"M0 0h24v24H0V0z\" fill=\"none\"/>\n",
              "    <path d=\"M18.56 5.44l.94 2.06.94-2.06 2.06-.94-2.06-.94-.94-2.06-.94 2.06-2.06.94zm-11 1L8.5 8.5l.94-2.06 2.06-.94-2.06-.94L8.5 2.5l-.94 2.06-2.06.94zm10 10l.94 2.06.94-2.06 2.06-.94-2.06-.94-.94-2.06-.94 2.06-2.06.94z\"/><path d=\"M17.41 7.96l-1.37-1.37c-.4-.4-.92-.59-1.43-.59-.52 0-1.04.2-1.43.59L10.3 9.45l-7.72 7.72c-.78.78-.78 2.05 0 2.83L4 21.41c.39.39.9.59 1.41.59.51 0 1.02-.2 1.41-.59l7.78-7.78 2.81-2.81c.8-.78.8-2.07 0-2.86zM5.41 20L4 18.59l7.72-7.72 1.47 1.35L5.41 20z\"/>\n",
              "  </svg>\n",
              "      </button>\n",
              "      \n",
              "  <style>\n",
              "    .colab-df-container {\n",
              "      display:flex;\n",
              "      flex-wrap:wrap;\n",
              "      gap: 12px;\n",
              "    }\n",
              "\n",
              "    .colab-df-convert {\n",
              "      background-color: #E8F0FE;\n",
              "      border: none;\n",
              "      border-radius: 50%;\n",
              "      cursor: pointer;\n",
              "      display: none;\n",
              "      fill: #1967D2;\n",
              "      height: 32px;\n",
              "      padding: 0 0 0 0;\n",
              "      width: 32px;\n",
              "    }\n",
              "\n",
              "    .colab-df-convert:hover {\n",
              "      background-color: #E2EBFA;\n",
              "      box-shadow: 0px 1px 2px rgba(60, 64, 67, 0.3), 0px 1px 3px 1px rgba(60, 64, 67, 0.15);\n",
              "      fill: #174EA6;\n",
              "    }\n",
              "\n",
              "    [theme=dark] .colab-df-convert {\n",
              "      background-color: #3B4455;\n",
              "      fill: #D2E3FC;\n",
              "    }\n",
              "\n",
              "    [theme=dark] .colab-df-convert:hover {\n",
              "      background-color: #434B5C;\n",
              "      box-shadow: 0px 1px 3px 1px rgba(0, 0, 0, 0.15);\n",
              "      filter: drop-shadow(0px 1px 2px rgba(0, 0, 0, 0.3));\n",
              "      fill: #FFFFFF;\n",
              "    }\n",
              "  </style>\n",
              "\n",
              "      <script>\n",
              "        const buttonEl =\n",
              "          document.querySelector('#df-b476e6c6-4cec-4f78-99f5-f297f2485d1b button.colab-df-convert');\n",
              "        buttonEl.style.display =\n",
              "          google.colab.kernel.accessAllowed ? 'block' : 'none';\n",
              "\n",
              "        async function convertToInteractive(key) {\n",
              "          const element = document.querySelector('#df-b476e6c6-4cec-4f78-99f5-f297f2485d1b');\n",
              "          const dataTable =\n",
              "            await google.colab.kernel.invokeFunction('convertToInteractive',\n",
              "                                                     [key], {});\n",
              "          if (!dataTable) return;\n",
              "\n",
              "          const docLinkHtml = 'Like what you see? Visit the ' +\n",
              "            '<a target=\"_blank\" href=https://colab.research.google.com/notebooks/data_table.ipynb>data table notebook</a>'\n",
              "            + ' to learn more about interactive tables.';\n",
              "          element.innerHTML = '';\n",
              "          dataTable['output_type'] = 'display_data';\n",
              "          await google.colab.output.renderOutput(dataTable, element);\n",
              "          const docLink = document.createElement('div');\n",
              "          docLink.innerHTML = docLinkHtml;\n",
              "          element.appendChild(docLink);\n",
              "        }\n",
              "      </script>\n",
              "    </div>\n",
              "  </div>\n",
              "  "
            ]
          },
          "metadata": {},
          "execution_count": 33
        }
      ]
    },
    {
      "cell_type": "code",
      "source": [
        "property_data['type'].value_counts()"
      ],
      "metadata": {
        "colab": {
          "base_uri": "https://localhost:8080/"
        },
        "id": "nXzh4aAPOxqW",
        "outputId": "d905a51c-1459-48fc-d662-268d9cf76daf"
      },
      "execution_count": null,
      "outputs": [
        {
          "output_type": "execute_result",
          "data": {
            "text/plain": [
              "Condo          102\n",
              "Co-op           73\n",
              "For              3\n",
              "Apartment        3\n",
              "Foreclosure      2\n",
              "Name: type, dtype: int64"
            ]
          },
          "metadata": {},
          "execution_count": 34
        }
      ]
    },
    {
      "cell_type": "code",
      "source": [
        "#I see 'For' as a type, let's figure why that is.\n",
        "property_data[property_data['type'] =='For']"
      ],
      "metadata": {
        "colab": {
          "base_uri": "https://localhost:8080/",
          "height": 143
        },
        "id": "pad00TEx0aCV",
        "outputId": "4de9360a-b5a1-4a79-8edd-f88739a2fa58"
      },
      "execution_count": null,
      "outputs": [
        {
          "output_type": "execute_result",
          "data": {
            "text/plain": [
              "                title                      address      city state  \\\n",
              "93  For Sale by Owner  210 East Broadway APT H1404  new york    NY   \n",
              "97  For Sale by Owner         41 5th Ave # EIGHT-F  new york    NY   \n",
              "99  For Sale by Owner         7 E 14th St APT 1228  new york    NY   \n",
              "\n",
              "    postal_code    price  beds  baths  sqft type  \n",
              "93        10002   789000     1      1   821  For  \n",
              "97        10003  1488888     1      1     0  For  \n",
              "99        10003   899000     1      1   725  For  "
            ],
            "text/html": [
              "\n",
              "  <div id=\"df-07268761-3c79-4bd7-a339-c551b29f480c\">\n",
              "    <div class=\"colab-df-container\">\n",
              "      <div>\n",
              "<style scoped>\n",
              "    .dataframe tbody tr th:only-of-type {\n",
              "        vertical-align: middle;\n",
              "    }\n",
              "\n",
              "    .dataframe tbody tr th {\n",
              "        vertical-align: top;\n",
              "    }\n",
              "\n",
              "    .dataframe thead th {\n",
              "        text-align: right;\n",
              "    }\n",
              "</style>\n",
              "<table border=\"1\" class=\"dataframe\">\n",
              "  <thead>\n",
              "    <tr style=\"text-align: right;\">\n",
              "      <th></th>\n",
              "      <th>title</th>\n",
              "      <th>address</th>\n",
              "      <th>city</th>\n",
              "      <th>state</th>\n",
              "      <th>postal_code</th>\n",
              "      <th>price</th>\n",
              "      <th>beds</th>\n",
              "      <th>baths</th>\n",
              "      <th>sqft</th>\n",
              "      <th>type</th>\n",
              "    </tr>\n",
              "  </thead>\n",
              "  <tbody>\n",
              "    <tr>\n",
              "      <th>93</th>\n",
              "      <td>For Sale by Owner</td>\n",
              "      <td>210 East Broadway APT H1404</td>\n",
              "      <td>new york</td>\n",
              "      <td>NY</td>\n",
              "      <td>10002</td>\n",
              "      <td>789000</td>\n",
              "      <td>1</td>\n",
              "      <td>1</td>\n",
              "      <td>821</td>\n",
              "      <td>For</td>\n",
              "    </tr>\n",
              "    <tr>\n",
              "      <th>97</th>\n",
              "      <td>For Sale by Owner</td>\n",
              "      <td>41 5th Ave # EIGHT-F</td>\n",
              "      <td>new york</td>\n",
              "      <td>NY</td>\n",
              "      <td>10003</td>\n",
              "      <td>1488888</td>\n",
              "      <td>1</td>\n",
              "      <td>1</td>\n",
              "      <td>0</td>\n",
              "      <td>For</td>\n",
              "    </tr>\n",
              "    <tr>\n",
              "      <th>99</th>\n",
              "      <td>For Sale by Owner</td>\n",
              "      <td>7 E 14th St APT 1228</td>\n",
              "      <td>new york</td>\n",
              "      <td>NY</td>\n",
              "      <td>10003</td>\n",
              "      <td>899000</td>\n",
              "      <td>1</td>\n",
              "      <td>1</td>\n",
              "      <td>725</td>\n",
              "      <td>For</td>\n",
              "    </tr>\n",
              "  </tbody>\n",
              "</table>\n",
              "</div>\n",
              "      <button class=\"colab-df-convert\" onclick=\"convertToInteractive('df-07268761-3c79-4bd7-a339-c551b29f480c')\"\n",
              "              title=\"Convert this dataframe to an interactive table.\"\n",
              "              style=\"display:none;\">\n",
              "        \n",
              "  <svg xmlns=\"http://www.w3.org/2000/svg\" height=\"24px\"viewBox=\"0 0 24 24\"\n",
              "       width=\"24px\">\n",
              "    <path d=\"M0 0h24v24H0V0z\" fill=\"none\"/>\n",
              "    <path d=\"M18.56 5.44l.94 2.06.94-2.06 2.06-.94-2.06-.94-.94-2.06-.94 2.06-2.06.94zm-11 1L8.5 8.5l.94-2.06 2.06-.94-2.06-.94L8.5 2.5l-.94 2.06-2.06.94zm10 10l.94 2.06.94-2.06 2.06-.94-2.06-.94-.94-2.06-.94 2.06-2.06.94z\"/><path d=\"M17.41 7.96l-1.37-1.37c-.4-.4-.92-.59-1.43-.59-.52 0-1.04.2-1.43.59L10.3 9.45l-7.72 7.72c-.78.78-.78 2.05 0 2.83L4 21.41c.39.39.9.59 1.41.59.51 0 1.02-.2 1.41-.59l7.78-7.78 2.81-2.81c.8-.78.8-2.07 0-2.86zM5.41 20L4 18.59l7.72-7.72 1.47 1.35L5.41 20z\"/>\n",
              "  </svg>\n",
              "      </button>\n",
              "      \n",
              "  <style>\n",
              "    .colab-df-container {\n",
              "      display:flex;\n",
              "      flex-wrap:wrap;\n",
              "      gap: 12px;\n",
              "    }\n",
              "\n",
              "    .colab-df-convert {\n",
              "      background-color: #E8F0FE;\n",
              "      border: none;\n",
              "      border-radius: 50%;\n",
              "      cursor: pointer;\n",
              "      display: none;\n",
              "      fill: #1967D2;\n",
              "      height: 32px;\n",
              "      padding: 0 0 0 0;\n",
              "      width: 32px;\n",
              "    }\n",
              "\n",
              "    .colab-df-convert:hover {\n",
              "      background-color: #E2EBFA;\n",
              "      box-shadow: 0px 1px 2px rgba(60, 64, 67, 0.3), 0px 1px 3px 1px rgba(60, 64, 67, 0.15);\n",
              "      fill: #174EA6;\n",
              "    }\n",
              "\n",
              "    [theme=dark] .colab-df-convert {\n",
              "      background-color: #3B4455;\n",
              "      fill: #D2E3FC;\n",
              "    }\n",
              "\n",
              "    [theme=dark] .colab-df-convert:hover {\n",
              "      background-color: #434B5C;\n",
              "      box-shadow: 0px 1px 3px 1px rgba(0, 0, 0, 0.15);\n",
              "      filter: drop-shadow(0px 1px 2px rgba(0, 0, 0, 0.3));\n",
              "      fill: #FFFFFF;\n",
              "    }\n",
              "  </style>\n",
              "\n",
              "      <script>\n",
              "        const buttonEl =\n",
              "          document.querySelector('#df-07268761-3c79-4bd7-a339-c551b29f480c button.colab-df-convert');\n",
              "        buttonEl.style.display =\n",
              "          google.colab.kernel.accessAllowed ? 'block' : 'none';\n",
              "\n",
              "        async function convertToInteractive(key) {\n",
              "          const element = document.querySelector('#df-07268761-3c79-4bd7-a339-c551b29f480c');\n",
              "          const dataTable =\n",
              "            await google.colab.kernel.invokeFunction('convertToInteractive',\n",
              "                                                     [key], {});\n",
              "          if (!dataTable) return;\n",
              "\n",
              "          const docLinkHtml = 'Like what you see? Visit the ' +\n",
              "            '<a target=\"_blank\" href=https://colab.research.google.com/notebooks/data_table.ipynb>data table notebook</a>'\n",
              "            + ' to learn more about interactive tables.';\n",
              "          element.innerHTML = '';\n",
              "          dataTable['output_type'] = 'display_data';\n",
              "          await google.colab.output.renderOutput(dataTable, element);\n",
              "          const docLink = document.createElement('div');\n",
              "          docLink.innerHTML = docLinkHtml;\n",
              "          element.appendChild(docLink);\n",
              "        }\n",
              "      </script>\n",
              "    </div>\n",
              "  </div>\n",
              "  "
            ]
          },
          "metadata": {},
          "execution_count": 35
        }
      ]
    },
    {
      "cell_type": "markdown",
      "source": [
        "4 of the Title do not have the type, since the sqft is quite less I am going to assume these are condos too and impute them as condos."
      ],
      "metadata": {
        "id": "s34sq1F31RX5"
      }
    },
    {
      "cell_type": "code",
      "source": [
        "property_data['type'] = property_data['type'].apply(lambda x: 'Condo' if x=='For' else x)"
      ],
      "metadata": {
        "id": "QnXaFS3p1QZ0"
      },
      "execution_count": null,
      "outputs": []
    },
    {
      "cell_type": "code",
      "source": [
        "property_data['type'].value_counts().plot(kind='barh') #plotting the different types of properties as a bar graph in horizontal"
      ],
      "metadata": {
        "colab": {
          "base_uri": "https://localhost:8080/",
          "height": 283
        },
        "id": "H61QCw7EPLlx",
        "outputId": "69a5a722-54b6-487f-a9db-a210d4ac8470"
      },
      "execution_count": null,
      "outputs": [
        {
          "output_type": "execute_result",
          "data": {
            "text/plain": [
              "<matplotlib.axes._subplots.AxesSubplot at 0x7fbfb0125410>"
            ]
          },
          "metadata": {},
          "execution_count": 37
        },
        {
          "output_type": "display_data",
          "data": {
            "text/plain": [
              "<Figure size 432x288 with 1 Axes>"
            ],
            "image/png": "[encoded data removed]"
          },
          "metadata": {
            "needs_background": "light"
          }
        }
      ]
    },
    {
      "cell_type": "code",
      "metadata": {
        "id": "W2q-e0da47c9"
      },
      "source": [
        "property_data = property_data.drop('title',axis=1)"
      ],
      "execution_count": null,
      "outputs": []
    },
    {
      "cell_type": "code",
      "metadata": {
        "id": "AD4dhXGCXg69",
        "outputId": "852a16a3-0eee-4898-ed3f-746bf9194292",
        "colab": {
          "base_uri": "https://localhost:8080/",
          "height": 206
        }
      },
      "source": [
        "property_data.head()"
      ],
      "execution_count": null,
      "outputs": [
        {
          "output_type": "execute_result",
          "data": {
            "text/plain": [
              "                address      city state  postal_code    price  beds  baths  \\\n",
              "0  515 W 29th St APT 3N  new york    NY        10001  5250000     2      3   \n",
              "1  515 W 29th St APT 3S  new york    NY        10001  5450000     2      3   \n",
              "2  515 W 29th St APT 5S  new york    NY        10001  5750000     2      3   \n",
              "3   357 W 30TH St APT 2  new york    NY        10001   675000     0      1   \n",
              "4     520 W 28th St # 5  new york    NY        10001  6450000     3      4   \n",
              "\n",
              "   sqft   type  \n",
              "0  2133  Condo  \n",
              "1  2140  Condo  \n",
              "2  2140  Condo  \n",
              "3   453  Condo  \n",
              "4  2065  Condo  "
            ],
            "text/html": [
              "\n",
              "  <div id=\"df-8b0cfe57-07a6-4460-bbb6-cda3770b2bdc\">\n",
              "    <div class=\"colab-df-container\">\n",
              "      <div>\n",
              "<style scoped>\n",
              "    .dataframe tbody tr th:only-of-type {\n",
              "        vertical-align: middle;\n",
              "    }\n",
              "\n",
              "    .dataframe tbody tr th {\n",
              "        vertical-align: top;\n",
              "    }\n",
              "\n",
              "    .dataframe thead th {\n",
              "        text-align: right;\n",
              "    }\n",
              "</style>\n",
              "<table border=\"1\" class=\"dataframe\">\n",
              "  <thead>\n",
              "    <tr style=\"text-align: right;\">\n",
              "      <th></th>\n",
              "      <th>address</th>\n",
              "      <th>city</th>\n",
              "      <th>state</th>\n",
              "      <th>postal_code</th>\n",
              "      <th>price</th>\n",
              "      <th>beds</th>\n",
              "      <th>baths</th>\n",
              "      <th>sqft</th>\n",
              "      <th>type</th>\n",
              "    </tr>\n",
              "  </thead>\n",
              "  <tbody>\n",
              "    <tr>\n",
              "      <th>0</th>\n",
              "      <td>515 W 29th St APT 3N</td>\n",
              "      <td>new york</td>\n",
              "      <td>NY</td>\n",
              "      <td>10001</td>\n",
              "      <td>5250000</td>\n",
              "      <td>2</td>\n",
              "      <td>3</td>\n",
              "      <td>2133</td>\n",
              "      <td>Condo</td>\n",
              "    </tr>\n",
              "    <tr>\n",
              "      <th>1</th>\n",
              "      <td>515 W 29th St APT 3S</td>\n",
              "      <td>new york</td>\n",
              "      <td>NY</td>\n",
              "      <td>10001</td>\n",
              "      <td>5450000</td>\n",
              "      <td>2</td>\n",
              "      <td>3</td>\n",
              "      <td>2140</td>\n",
              "      <td>Condo</td>\n",
              "    </tr>\n",
              "    <tr>\n",
              "      <th>2</th>\n",
              "      <td>515 W 29th St APT 5S</td>\n",
              "      <td>new york</td>\n",
              "      <td>NY</td>\n",
              "      <td>10001</td>\n",
              "      <td>5750000</td>\n",
              "      <td>2</td>\n",
              "      <td>3</td>\n",
              "      <td>2140</td>\n",
              "      <td>Condo</td>\n",
              "    </tr>\n",
              "    <tr>\n",
              "      <th>3</th>\n",
              "      <td>357 W 30TH St APT 2</td>\n",
              "      <td>new york</td>\n",
              "      <td>NY</td>\n",
              "      <td>10001</td>\n",
              "      <td>675000</td>\n",
              "      <td>0</td>\n",
              "      <td>1</td>\n",
              "      <td>453</td>\n",
              "      <td>Condo</td>\n",
              "    </tr>\n",
              "    <tr>\n",
              "      <th>4</th>\n",
              "      <td>520 W 28th St # 5</td>\n",
              "      <td>new york</td>\n",
              "      <td>NY</td>\n",
              "      <td>10001</td>\n",
              "      <td>6450000</td>\n",
              "      <td>3</td>\n",
              "      <td>4</td>\n",
              "      <td>2065</td>\n",
              "      <td>Condo</td>\n",
              "    </tr>\n",
              "  </tbody>\n",
              "</table>\n",
              "</div>\n",
              "      <button class=\"colab-df-convert\" onclick=\"convertToInteractive('df-8b0cfe57-07a6-4460-bbb6-cda3770b2bdc')\"\n",
              "              title=\"Convert this dataframe to an interactive table.\"\n",
              "              style=\"display:none;\">\n",
              "        \n",
              "  <svg xmlns=\"http://www.w3.org/2000/svg\" height=\"24px\"viewBox=\"0 0 24 24\"\n",
              "       width=\"24px\">\n",
              "    <path d=\"M0 0h24v24H0V0z\" fill=\"none\"/>\n",
              "    <path d=\"M18.56 5.44l.94 2.06.94-2.06 2.06-.94-2.06-.94-.94-2.06-.94 2.06-2.06.94zm-11 1L8.5 8.5l.94-2.06 2.06-.94-2.06-.94L8.5 2.5l-.94 2.06-2.06.94zm10 10l.94 2.06.94-2.06 2.06-.94-2.06-.94-.94-2.06-.94 2.06-2.06.94z\"/><path d=\"M17.41 7.96l-1.37-1.37c-.4-.4-.92-.59-1.43-.59-.52 0-1.04.2-1.43.59L10.3 9.45l-7.72 7.72c-.78.78-.78 2.05 0 2.83L4 21.41c.39.39.9.59 1.41.59.51 0 1.02-.2 1.41-.59l7.78-7.78 2.81-2.81c.8-.78.8-2.07 0-2.86zM5.41 20L4 18.59l7.72-7.72 1.47 1.35L5.41 20z\"/>\n",
              "  </svg>\n",
              "      </button>\n",
              "      \n",
              "  <style>\n",
              "    .colab-df-container {\n",
              "      display:flex;\n",
              "      flex-wrap:wrap;\n",
              "      gap: 12px;\n",
              "    }\n",
              "\n",
              "    .colab-df-convert {\n",
              "      background-color: #E8F0FE;\n",
              "      border: none;\n",
              "      border-radius: 50%;\n",
              "      cursor: pointer;\n",
              "      display: none;\n",
              "      fill: #1967D2;\n",
              "      height: 32px;\n",
              "      padding: 0 0 0 0;\n",
              "      width: 32px;\n",
              "    }\n",
              "\n",
              "    .colab-df-convert:hover {\n",
              "      background-color: #E2EBFA;\n",
              "      box-shadow: 0px 1px 2px rgba(60, 64, 67, 0.3), 0px 1px 3px 1px rgba(60, 64, 67, 0.15);\n",
              "      fill: #174EA6;\n",
              "    }\n",
              "\n",
              "    [theme=dark] .colab-df-convert {\n",
              "      background-color: #3B4455;\n",
              "      fill: #D2E3FC;\n",
              "    }\n",
              "\n",
              "    [theme=dark] .colab-df-convert:hover {\n",
              "      background-color: #434B5C;\n",
              "      box-shadow: 0px 1px 3px 1px rgba(0, 0, 0, 0.15);\n",
              "      filter: drop-shadow(0px 1px 2px rgba(0, 0, 0, 0.3));\n",
              "      fill: #FFFFFF;\n",
              "    }\n",
              "  </style>\n",
              "\n",
              "      <script>\n",
              "        const buttonEl =\n",
              "          document.querySelector('#df-8b0cfe57-07a6-4460-bbb6-cda3770b2bdc button.colab-df-convert');\n",
              "        buttonEl.style.display =\n",
              "          google.colab.kernel.accessAllowed ? 'block' : 'none';\n",
              "\n",
              "        async function convertToInteractive(key) {\n",
              "          const element = document.querySelector('#df-8b0cfe57-07a6-4460-bbb6-cda3770b2bdc');\n",
              "          const dataTable =\n",
              "            await google.colab.kernel.invokeFunction('convertToInteractive',\n",
              "                                                     [key], {});\n",
              "          if (!dataTable) return;\n",
              "\n",
              "          const docLinkHtml = 'Like what you see? Visit the ' +\n",
              "            '<a target=\"_blank\" href=https://colab.research.google.com/notebooks/data_table.ipynb>data table notebook</a>'\n",
              "            + ' to learn more about interactive tables.';\n",
              "          element.innerHTML = '';\n",
              "          dataTable['output_type'] = 'display_data';\n",
              "          await google.colab.output.renderOutput(dataTable, element);\n",
              "          const docLink = document.createElement('div');\n",
              "          docLink.innerHTML = docLinkHtml;\n",
              "          element.appendChild(docLink);\n",
              "        }\n",
              "      </script>\n",
              "    </div>\n",
              "  </div>\n",
              "  "
            ]
          },
          "metadata": {},
          "execution_count": 39
        }
      ]
    },
    {
      "cell_type": "code",
      "metadata": {
        "id": "afUmfZJu5ESp",
        "outputId": "e27e10fb-6c32-4a3c-ac25-700e7de00596",
        "colab": {
          "base_uri": "https://localhost:8080/"
        }
      },
      "source": [
        "#how many unique zipcodes\n",
        "property_data['postal_code'].unique()"
      ],
      "execution_count": null,
      "outputs": [
        {
          "output_type": "execute_result",
          "data": {
            "text/plain": [
              "array([10001, 10002, 10003, 10004])"
            ]
          },
          "metadata": {},
          "execution_count": 40
        }
      ]
    },
    {
      "cell_type": "code",
      "metadata": {
        "id": "XqDiOtYZ5IYJ",
        "outputId": "0cb87095-e601-4cfa-9ef1-cb2370554915",
        "colab": {
          "base_uri": "https://localhost:8080/"
        }
      },
      "source": [
        "#number of unique post codes\n",
        "print(\"Number of unique postal codes: \", property_data['postal_code'].nunique())"
      ],
      "execution_count": null,
      "outputs": [
        {
          "output_type": "stream",
          "name": "stdout",
          "text": [
            "Number of unique postal codes:  4\n"
          ]
        }
      ]
    },
    {
      "cell_type": "code",
      "source": [
        "property_data.dtypes"
      ],
      "metadata": {
        "colab": {
          "base_uri": "https://localhost:8080/"
        },
        "id": "BD0N8uGQdOpB",
        "outputId": "66ad2039-9137-4eb2-9a46-819db76e93ea"
      },
      "execution_count": null,
      "outputs": [
        {
          "output_type": "execute_result",
          "data": {
            "text/plain": [
              "address         object\n",
              "city            object\n",
              "state           object\n",
              "postal_code      int64\n",
              "price          float64\n",
              "beds             int64\n",
              "baths            int64\n",
              "sqft             int64\n",
              "type            object\n",
              "dtype: object"
            ]
          },
          "metadata": {},
          "execution_count": 64
        }
      ]
    },
    {
      "cell_type": "code",
      "source": [
        "property_data.describe() #after the feature transformation we have descriptive statistics"
      ],
      "metadata": {
        "colab": {
          "base_uri": "https://localhost:8080/",
          "height": 300
        },
        "id": "jbwowZHJHWSn",
        "outputId": "5a8ac302-2b8e-4b0b-e843-e6082055b57f"
      },
      "execution_count": null,
      "outputs": [
        {
          "output_type": "execute_result",
          "data": {
            "text/plain": [
              "        postal_code         price        beds       baths         sqft\n",
              "count    183.000000  1.830000e+02  183.000000  183.000000   183.000000\n",
              "mean   10002.464481  1.787508e+06    1.300546    1.557377   850.836066\n",
              "std        1.137568  2.122731e+06    1.065106    1.003148   800.674390\n",
              "min    10001.000000  2.995000e+05    0.000000    1.000000     0.000000\n",
              "25%    10001.000000  6.900000e+05    1.000000    1.000000   192.500000\n",
              "50%    10002.000000  9.950000e+05    1.000000    1.000000   725.000000\n",
              "75%    10003.500000  2.222000e+06    2.000000    2.000000  1162.000000\n",
              "max    10004.000000  1.609500e+07    5.000000    6.000000  4220.000000"
            ],
            "text/html": [
              "\n",
              "  <div id=\"df-1c9cb28f-5e48-4e4e-97ee-b98adfab477a\">\n",
              "    <div class=\"colab-df-container\">\n",
              "      <div>\n",
              "<style scoped>\n",
              "    .dataframe tbody tr th:only-of-type {\n",
              "        vertical-align: middle;\n",
              "    }\n",
              "\n",
              "    .dataframe tbody tr th {\n",
              "        vertical-align: top;\n",
              "    }\n",
              "\n",
              "    .dataframe thead th {\n",
              "        text-align: right;\n",
              "    }\n",
              "</style>\n",
              "<table border=\"1\" class=\"dataframe\">\n",
              "  <thead>\n",
              "    <tr style=\"text-align: right;\">\n",
              "      <th></th>\n",
              "      <th>postal_code</th>\n",
              "      <th>price</th>\n",
              "      <th>beds</th>\n",
              "      <th>baths</th>\n",
              "      <th>sqft</th>\n",
              "    </tr>\n",
              "  </thead>\n",
              "  <tbody>\n",
              "    <tr>\n",
              "      <th>count</th>\n",
              "      <td>183.000000</td>\n",
              "      <td>1.830000e+02</td>\n",
              "      <td>183.000000</td>\n",
              "      <td>183.000000</td>\n",
              "      <td>183.000000</td>\n",
              "    </tr>\n",
              "    <tr>\n",
              "      <th>mean</th>\n",
              "      <td>10002.464481</td>\n",
              "      <td>1.787508e+06</td>\n",
              "      <td>1.300546</td>\n",
              "      <td>1.557377</td>\n",
              "      <td>850.836066</td>\n",
              "    </tr>\n",
              "    <tr>\n",
              "      <th>std</th>\n",
              "      <td>1.137568</td>\n",
              "      <td>2.122731e+06</td>\n",
              "      <td>1.065106</td>\n",
              "      <td>1.003148</td>\n",
              "      <td>800.674390</td>\n",
              "    </tr>\n",
              "    <tr>\n",
              "      <th>min</th>\n",
              "      <td>10001.000000</td>\n",
              "      <td>2.995000e+05</td>\n",
              "      <td>0.000000</td>\n",
              "      <td>1.000000</td>\n",
              "      <td>0.000000</td>\n",
              "    </tr>\n",
              "    <tr>\n",
              "      <th>25%</th>\n",
              "      <td>10001.000000</td>\n",
              "      <td>6.900000e+05</td>\n",
              "      <td>1.000000</td>\n",
              "      <td>1.000000</td>\n",
              "      <td>192.500000</td>\n",
              "    </tr>\n",
              "    <tr>\n",
              "      <th>50%</th>\n",
              "      <td>10002.000000</td>\n",
              "      <td>9.950000e+05</td>\n",
              "      <td>1.000000</td>\n",
              "      <td>1.000000</td>\n",
              "      <td>725.000000</td>\n",
              "    </tr>\n",
              "    <tr>\n",
              "      <th>75%</th>\n",
              "      <td>10003.500000</td>\n",
              "      <td>2.222000e+06</td>\n",
              "      <td>2.000000</td>\n",
              "      <td>2.000000</td>\n",
              "      <td>1162.000000</td>\n",
              "    </tr>\n",
              "    <tr>\n",
              "      <th>max</th>\n",
              "      <td>10004.000000</td>\n",
              "      <td>1.609500e+07</td>\n",
              "      <td>5.000000</td>\n",
              "      <td>6.000000</td>\n",
              "      <td>4220.000000</td>\n",
              "    </tr>\n",
              "  </tbody>\n",
              "</table>\n",
              "</div>\n",
              "      <button class=\"colab-df-convert\" onclick=\"convertToInteractive('df-1c9cb28f-5e48-4e4e-97ee-b98adfab477a')\"\n",
              "              title=\"Convert this dataframe to an interactive table.\"\n",
              "              style=\"display:none;\">\n",
              "        \n",
              "  <svg xmlns=\"http://www.w3.org/2000/svg\" height=\"24px\"viewBox=\"0 0 24 24\"\n",
              "       width=\"24px\">\n",
              "    <path d=\"M0 0h24v24H0V0z\" fill=\"none\"/>\n",
              "    <path d=\"M18.56 5.44l.94 2.06.94-2.06 2.06-.94-2.06-.94-.94-2.06-.94 2.06-2.06.94zm-11 1L8.5 8.5l.94-2.06 2.06-.94-2.06-.94L8.5 2.5l-.94 2.06-2.06.94zm10 10l.94 2.06.94-2.06 2.06-.94-2.06-.94-.94-2.06-.94 2.06-2.06.94z\"/><path d=\"M17.41 7.96l-1.37-1.37c-.4-.4-.92-.59-1.43-.59-.52 0-1.04.2-1.43.59L10.3 9.45l-7.72 7.72c-.78.78-.78 2.05 0 2.83L4 21.41c.39.39.9.59 1.41.59.51 0 1.02-.2 1.41-.59l7.78-7.78 2.81-2.81c.8-.78.8-2.07 0-2.86zM5.41 20L4 18.59l7.72-7.72 1.47 1.35L5.41 20z\"/>\n",
              "  </svg>\n",
              "      </button>\n",
              "      \n",
              "  <style>\n",
              "    .colab-df-container {\n",
              "      display:flex;\n",
              "      flex-wrap:wrap;\n",
              "      gap: 12px;\n",
              "    }\n",
              "\n",
              "    .colab-df-convert {\n",
              "      background-color: #E8F0FE;\n",
              "      border: none;\n",
              "      border-radius: 50%;\n",
              "      cursor: pointer;\n",
              "      display: none;\n",
              "      fill: #1967D2;\n",
              "      height: 32px;\n",
              "      padding: 0 0 0 0;\n",
              "      width: 32px;\n",
              "    }\n",
              "\n",
              "    .colab-df-convert:hover {\n",
              "      background-color: #E2EBFA;\n",
              "      box-shadow: 0px 1px 2px rgba(60, 64, 67, 0.3), 0px 1px 3px 1px rgba(60, 64, 67, 0.15);\n",
              "      fill: #174EA6;\n",
              "    }\n",
              "\n",
              "    [theme=dark] .colab-df-convert {\n",
              "      background-color: #3B4455;\n",
              "      fill: #D2E3FC;\n",
              "    }\n",
              "\n",
              "    [theme=dark] .colab-df-convert:hover {\n",
              "      background-color: #434B5C;\n",
              "      box-shadow: 0px 1px 3px 1px rgba(0, 0, 0, 0.15);\n",
              "      filter: drop-shadow(0px 1px 2px rgba(0, 0, 0, 0.3));\n",
              "      fill: #FFFFFF;\n",
              "    }\n",
              "  </style>\n",
              "\n",
              "      <script>\n",
              "        const buttonEl =\n",
              "          document.querySelector('#df-1c9cb28f-5e48-4e4e-97ee-b98adfab477a button.colab-df-convert');\n",
              "        buttonEl.style.display =\n",
              "          google.colab.kernel.accessAllowed ? 'block' : 'none';\n",
              "\n",
              "        async function convertToInteractive(key) {\n",
              "          const element = document.querySelector('#df-1c9cb28f-5e48-4e4e-97ee-b98adfab477a');\n",
              "          const dataTable =\n",
              "            await google.colab.kernel.invokeFunction('convertToInteractive',\n",
              "                                                     [key], {});\n",
              "          if (!dataTable) return;\n",
              "\n",
              "          const docLinkHtml = 'Like what you see? Visit the ' +\n",
              "            '<a target=\"_blank\" href=https://colab.research.google.com/notebooks/data_table.ipynb>data table notebook</a>'\n",
              "            + ' to learn more about interactive tables.';\n",
              "          element.innerHTML = '';\n",
              "          dataTable['output_type'] = 'display_data';\n",
              "          await google.colab.output.renderOutput(dataTable, element);\n",
              "          const docLink = document.createElement('div');\n",
              "          docLink.innerHTML = docLinkHtml;\n",
              "          element.appendChild(docLink);\n",
              "        }\n",
              "      </script>\n",
              "    </div>\n",
              "  </div>\n",
              "  "
            ]
          },
          "metadata": {},
          "execution_count": 42
        }
      ]
    },
    {
      "cell_type": "markdown",
      "source": [
        "VISUALIZATIONS"
      ],
      "metadata": {
        "id": "A8Qnw3MORPjN"
      }
    },
    {
      "cell_type": "code",
      "metadata": {
        "id": "KevCIIsZO2SL"
      },
      "source": [
        "#To count the properties available per zip code\n",
        "count = property_data['postal_code'].value_counts()"
      ],
      "execution_count": null,
      "outputs": []
    },
    {
      "cell_type": "code",
      "metadata": {
        "id": "uGPvJ0CDOFdc",
        "outputId": "d71c3a86-bce4-42c1-9977-2c53fcff4d4f",
        "colab": {
          "base_uri": "https://localhost:8080/",
          "height": 335
        }
      },
      "source": [
        "property_data['postal_code'].value_counts().plot(kind='bar')\n",
        "plt.xlabel('Postal Code')\n",
        "plt.ylabel('Count')\n",
        "plt.title('Properties available per postal code')"
      ],
      "execution_count": null,
      "outputs": [
        {
          "output_type": "execute_result",
          "data": {
            "text/plain": [
              "Text(0.5, 1.0, 'Properties available per postal code')"
            ]
          },
          "metadata": {},
          "execution_count": 44
        },
        {
          "output_type": "display_data",
          "data": {
            "text/plain": [
              "<Figure size 432x288 with 1 Axes>"
            ],
            "image/png": "[encoded data removed]"
          },
          "metadata": {
            "needs_background": "light"
          }
        }
      ]
    },
    {
      "cell_type": "code",
      "source": [
        "property_data['sqft'].value_counts()"
      ],
      "metadata": {
        "colab": {
          "base_uri": "https://localhost:8080/"
        },
        "id": "lRO0YmNVbw7X",
        "outputId": "16705f26-d50b-42ad-e081-4be24361d30f"
      },
      "execution_count": null,
      "outputs": [
        {
          "output_type": "execute_result",
          "data": {
            "text/plain": [
              "0       46\n",
              "800      5\n",
              "400      4\n",
              "1100     3\n",
              "1690     3\n",
              "        ..\n",
              "1734     1\n",
              "1250     1\n",
              "798      1\n",
              "1175     1\n",
              "940      1\n",
              "Name: sqft, Length: 95, dtype: int64"
            ]
          },
          "metadata": {},
          "execution_count": 45
        }
      ]
    },
    {
      "cell_type": "code",
      "metadata": {
        "id": "J7YkLF9eONaB",
        "outputId": "fe9a2c57-29e4-4bd7-8a26-b362e90a9e1d",
        "colab": {
          "base_uri": "https://localhost:8080/",
          "height": 206
        }
      },
      "source": [
        "property_data.head()"
      ],
      "execution_count": null,
      "outputs": [
        {
          "output_type": "execute_result",
          "data": {
            "text/plain": [
              "                address      city state  postal_code    price  beds  baths  \\\n",
              "0  515 W 29th St APT 3N  new york    NY        10001  5250000     2      3   \n",
              "1  515 W 29th St APT 3S  new york    NY        10001  5450000     2      3   \n",
              "2  515 W 29th St APT 5S  new york    NY        10001  5750000     2      3   \n",
              "3   357 W 30TH St APT 2  new york    NY        10001   675000     0      1   \n",
              "4     520 W 28th St # 5  new york    NY        10001  6450000     3      4   \n",
              "\n",
              "   sqft   type  \n",
              "0  2133  Condo  \n",
              "1  2140  Condo  \n",
              "2  2140  Condo  \n",
              "3   453  Condo  \n",
              "4  2065  Condo  "
            ],
            "text/html": [
              "\n",
              "  <div id=\"df-3ea3421d-0a60-4829-b2a9-0253a6b3c372\">\n",
              "    <div class=\"colab-df-container\">\n",
              "      <div>\n",
              "<style scoped>\n",
              "    .dataframe tbody tr th:only-of-type {\n",
              "        vertical-align: middle;\n",
              "    }\n",
              "\n",
              "    .dataframe tbody tr th {\n",
              "        vertical-align: top;\n",
              "    }\n",
              "\n",
              "    .dataframe thead th {\n",
              "        text-align: right;\n",
              "    }\n",
              "</style>\n",
              "<table border=\"1\" class=\"dataframe\">\n",
              "  <thead>\n",
              "    <tr style=\"text-align: right;\">\n",
              "      <th></th>\n",
              "      <th>address</th>\n",
              "      <th>city</th>\n",
              "      <th>state</th>\n",
              "      <th>postal_code</th>\n",
              "      <th>price</th>\n",
              "      <th>beds</th>\n",
              "      <th>baths</th>\n",
              "      <th>sqft</th>\n",
              "      <th>type</th>\n",
              "    </tr>\n",
              "  </thead>\n",
              "  <tbody>\n",
              "    <tr>\n",
              "      <th>0</th>\n",
              "      <td>515 W 29th St APT 3N</td>\n",
              "      <td>new york</td>\n",
              "      <td>NY</td>\n",
              "      <td>10001</td>\n",
              "      <td>5250000</td>\n",
              "      <td>2</td>\n",
              "      <td>3</td>\n",
              "      <td>2133</td>\n",
              "      <td>Condo</td>\n",
              "    </tr>\n",
              "    <tr>\n",
              "      <th>1</th>\n",
              "      <td>515 W 29th St APT 3S</td>\n",
              "      <td>new york</td>\n",
              "      <td>NY</td>\n",
              "      <td>10001</td>\n",
              "      <td>5450000</td>\n",
              "      <td>2</td>\n",
              "      <td>3</td>\n",
              "      <td>2140</td>\n",
              "      <td>Condo</td>\n",
              "    </tr>\n",
              "    <tr>\n",
              "      <th>2</th>\n",
              "      <td>515 W 29th St APT 5S</td>\n",
              "      <td>new york</td>\n",
              "      <td>NY</td>\n",
              "      <td>10001</td>\n",
              "      <td>5750000</td>\n",
              "      <td>2</td>\n",
              "      <td>3</td>\n",
              "      <td>2140</td>\n",
              "      <td>Condo</td>\n",
              "    </tr>\n",
              "    <tr>\n",
              "      <th>3</th>\n",
              "      <td>357 W 30TH St APT 2</td>\n",
              "      <td>new york</td>\n",
              "      <td>NY</td>\n",
              "      <td>10001</td>\n",
              "      <td>675000</td>\n",
              "      <td>0</td>\n",
              "      <td>1</td>\n",
              "      <td>453</td>\n",
              "      <td>Condo</td>\n",
              "    </tr>\n",
              "    <tr>\n",
              "      <th>4</th>\n",
              "      <td>520 W 28th St # 5</td>\n",
              "      <td>new york</td>\n",
              "      <td>NY</td>\n",
              "      <td>10001</td>\n",
              "      <td>6450000</td>\n",
              "      <td>3</td>\n",
              "      <td>4</td>\n",
              "      <td>2065</td>\n",
              "      <td>Condo</td>\n",
              "    </tr>\n",
              "  </tbody>\n",
              "</table>\n",
              "</div>\n",
              "      <button class=\"colab-df-convert\" onclick=\"convertToInteractive('df-3ea3421d-0a60-4829-b2a9-0253a6b3c372')\"\n",
              "              title=\"Convert this dataframe to an interactive table.\"\n",
              "              style=\"display:none;\">\n",
              "        \n",
              "  <svg xmlns=\"http://www.w3.org/2000/svg\" height=\"24px\"viewBox=\"0 0 24 24\"\n",
              "       width=\"24px\">\n",
              "    <path d=\"M0 0h24v24H0V0z\" fill=\"none\"/>\n",
              "    <path d=\"M18.56 5.44l.94 2.06.94-2.06 2.06-.94-2.06-.94-.94-2.06-.94 2.06-2.06.94zm-11 1L8.5 8.5l.94-2.06 2.06-.94-2.06-.94L8.5 2.5l-.94 2.06-2.06.94zm10 10l.94 2.06.94-2.06 2.06-.94-2.06-.94-.94-2.06-.94 2.06-2.06.94z\"/><path d=\"M17.41 7.96l-1.37-1.37c-.4-.4-.92-.59-1.43-.59-.52 0-1.04.2-1.43.59L10.3 9.45l-7.72 7.72c-.78.78-.78 2.05 0 2.83L4 21.41c.39.39.9.59 1.41.59.51 0 1.02-.2 1.41-.59l7.78-7.78 2.81-2.81c.8-.78.8-2.07 0-2.86zM5.41 20L4 18.59l7.72-7.72 1.47 1.35L5.41 20z\"/>\n",
              "  </svg>\n",
              "      </button>\n",
              "      \n",
              "  <style>\n",
              "    .colab-df-container {\n",
              "      display:flex;\n",
              "      flex-wrap:wrap;\n",
              "      gap: 12px;\n",
              "    }\n",
              "\n",
              "    .colab-df-convert {\n",
              "      background-color: #E8F0FE;\n",
              "      border: none;\n",
              "      border-radius: 50%;\n",
              "      cursor: pointer;\n",
              "      display: none;\n",
              "      fill: #1967D2;\n",
              "      height: 32px;\n",
              "      padding: 0 0 0 0;\n",
              "      width: 32px;\n",
              "    }\n",
              "\n",
              "    .colab-df-convert:hover {\n",
              "      background-color: #E2EBFA;\n",
              "      box-shadow: 0px 1px 2px rgba(60, 64, 67, 0.3), 0px 1px 3px 1px rgba(60, 64, 67, 0.15);\n",
              "      fill: #174EA6;\n",
              "    }\n",
              "\n",
              "    [theme=dark] .colab-df-convert {\n",
              "      background-color: #3B4455;\n",
              "      fill: #D2E3FC;\n",
              "    }\n",
              "\n",
              "    [theme=dark] .colab-df-convert:hover {\n",
              "      background-color: #434B5C;\n",
              "      box-shadow: 0px 1px 3px 1px rgba(0, 0, 0, 0.15);\n",
              "      filter: drop-shadow(0px 1px 2px rgba(0, 0, 0, 0.3));\n",
              "      fill: #FFFFFF;\n",
              "    }\n",
              "  </style>\n",
              "\n",
              "      <script>\n",
              "        const buttonEl =\n",
              "          document.querySelector('#df-3ea3421d-0a60-4829-b2a9-0253a6b3c372 button.colab-df-convert');\n",
              "        buttonEl.style.display =\n",
              "          google.colab.kernel.accessAllowed ? 'block' : 'none';\n",
              "\n",
              "        async function convertToInteractive(key) {\n",
              "          const element = document.querySelector('#df-3ea3421d-0a60-4829-b2a9-0253a6b3c372');\n",
              "          const dataTable =\n",
              "            await google.colab.kernel.invokeFunction('convertToInteractive',\n",
              "                                                     [key], {});\n",
              "          if (!dataTable) return;\n",
              "\n",
              "          const docLinkHtml = 'Like what you see? Visit the ' +\n",
              "            '<a target=\"_blank\" href=https://colab.research.google.com/notebooks/data_table.ipynb>data table notebook</a>'\n",
              "            + ' to learn more about interactive tables.';\n",
              "          element.innerHTML = '';\n",
              "          dataTable['output_type'] = 'display_data';\n",
              "          await google.colab.output.renderOutput(dataTable, element);\n",
              "          const docLink = document.createElement('div');\n",
              "          docLink.innerHTML = docLinkHtml;\n",
              "          element.appendChild(docLink);\n",
              "        }\n",
              "      </script>\n",
              "    </div>\n",
              "  </div>\n",
              "  "
            ]
          },
          "metadata": {},
          "execution_count": 46
        }
      ]
    },
    {
      "cell_type": "code",
      "source": [
        "property_data.head()"
      ],
      "metadata": {
        "colab": {
          "base_uri": "https://localhost:8080/",
          "height": 206
        },
        "id": "kbh_gsbBNgCP",
        "outputId": "f85b1845-fa1e-41b8-b39b-ff7c88b5dd89"
      },
      "execution_count": null,
      "outputs": [
        {
          "output_type": "execute_result",
          "data": {
            "text/plain": [
              "                address      city state  postal_code      price  beds  baths  \\\n",
              "0  515 W 29th St APT 3N  new york    NY        10001  5250000.0     2      3   \n",
              "1  515 W 29th St APT 3S  new york    NY        10001  5450000.0     2      3   \n",
              "2  515 W 29th St APT 5S  new york    NY        10001  5750000.0     2      3   \n",
              "3   357 W 30TH St APT 2  new york    NY        10001   675000.0     0      1   \n",
              "4     520 W 28th St # 5  new york    NY        10001  6450000.0     3      4   \n",
              "\n",
              "   sqft   type  \n",
              "0  2133  Condo  \n",
              "1  2140  Condo  \n",
              "2  2140  Condo  \n",
              "3   453  Condo  \n",
              "4  2065  Condo  "
            ],
            "text/html": [
              "\n",
              "  <div id=\"df-844ad766-16c2-4ad8-aefe-82c8574fc06d\">\n",
              "    <div class=\"colab-df-container\">\n",
              "      <div>\n",
              "<style scoped>\n",
              "    .dataframe tbody tr th:only-of-type {\n",
              "        vertical-align: middle;\n",
              "    }\n",
              "\n",
              "    .dataframe tbody tr th {\n",
              "        vertical-align: top;\n",
              "    }\n",
              "\n",
              "    .dataframe thead th {\n",
              "        text-align: right;\n",
              "    }\n",
              "</style>\n",
              "<table border=\"1\" class=\"dataframe\">\n",
              "  <thead>\n",
              "    <tr style=\"text-align: right;\">\n",
              "      <th></th>\n",
              "      <th>address</th>\n",
              "      <th>city</th>\n",
              "      <th>state</th>\n",
              "      <th>postal_code</th>\n",
              "      <th>price</th>\n",
              "      <th>beds</th>\n",
              "      <th>baths</th>\n",
              "      <th>sqft</th>\n",
              "      <th>type</th>\n",
              "    </tr>\n",
              "  </thead>\n",
              "  <tbody>\n",
              "    <tr>\n",
              "      <th>0</th>\n",
              "      <td>515 W 29th St APT 3N</td>\n",
              "      <td>new york</td>\n",
              "      <td>NY</td>\n",
              "      <td>10001</td>\n",
              "      <td>5250000.0</td>\n",
              "      <td>2</td>\n",
              "      <td>3</td>\n",
              "      <td>2133</td>\n",
              "      <td>Condo</td>\n",
              "    </tr>\n",
              "    <tr>\n",
              "      <th>1</th>\n",
              "      <td>515 W 29th St APT 3S</td>\n",
              "      <td>new york</td>\n",
              "      <td>NY</td>\n",
              "      <td>10001</td>\n",
              "      <td>5450000.0</td>\n",
              "      <td>2</td>\n",
              "      <td>3</td>\n",
              "      <td>2140</td>\n",
              "      <td>Condo</td>\n",
              "    </tr>\n",
              "    <tr>\n",
              "      <th>2</th>\n",
              "      <td>515 W 29th St APT 5S</td>\n",
              "      <td>new york</td>\n",
              "      <td>NY</td>\n",
              "      <td>10001</td>\n",
              "      <td>5750000.0</td>\n",
              "      <td>2</td>\n",
              "      <td>3</td>\n",
              "      <td>2140</td>\n",
              "      <td>Condo</td>\n",
              "    </tr>\n",
              "    <tr>\n",
              "      <th>3</th>\n",
              "      <td>357 W 30TH St APT 2</td>\n",
              "      <td>new york</td>\n",
              "      <td>NY</td>\n",
              "      <td>10001</td>\n",
              "      <td>675000.0</td>\n",
              "      <td>0</td>\n",
              "      <td>1</td>\n",
              "      <td>453</td>\n",
              "      <td>Condo</td>\n",
              "    </tr>\n",
              "    <tr>\n",
              "      <th>4</th>\n",
              "      <td>520 W 28th St # 5</td>\n",
              "      <td>new york</td>\n",
              "      <td>NY</td>\n",
              "      <td>10001</td>\n",
              "      <td>6450000.0</td>\n",
              "      <td>3</td>\n",
              "      <td>4</td>\n",
              "      <td>2065</td>\n",
              "      <td>Condo</td>\n",
              "    </tr>\n",
              "  </tbody>\n",
              "</table>\n",
              "</div>\n",
              "      <button class=\"colab-df-convert\" onclick=\"convertToInteractive('df-844ad766-16c2-4ad8-aefe-82c8574fc06d')\"\n",
              "              title=\"Convert this dataframe to an interactive table.\"\n",
              "              style=\"display:none;\">\n",
              "        \n",
              "  <svg xmlns=\"http://www.w3.org/2000/svg\" height=\"24px\"viewBox=\"0 0 24 24\"\n",
              "       width=\"24px\">\n",
              "    <path d=\"M0 0h24v24H0V0z\" fill=\"none\"/>\n",
              "    <path d=\"M18.56 5.44l.94 2.06.94-2.06 2.06-.94-2.06-.94-.94-2.06-.94 2.06-2.06.94zm-11 1L8.5 8.5l.94-2.06 2.06-.94-2.06-.94L8.5 2.5l-.94 2.06-2.06.94zm10 10l.94 2.06.94-2.06 2.06-.94-2.06-.94-.94-2.06-.94 2.06-2.06.94z\"/><path d=\"M17.41 7.96l-1.37-1.37c-.4-.4-.92-.59-1.43-.59-.52 0-1.04.2-1.43.59L10.3 9.45l-7.72 7.72c-.78.78-.78 2.05 0 2.83L4 21.41c.39.39.9.59 1.41.59.51 0 1.02-.2 1.41-.59l7.78-7.78 2.81-2.81c.8-.78.8-2.07 0-2.86zM5.41 20L4 18.59l7.72-7.72 1.47 1.35L5.41 20z\"/>\n",
              "  </svg>\n",
              "      </button>\n",
              "      \n",
              "  <style>\n",
              "    .colab-df-container {\n",
              "      display:flex;\n",
              "      flex-wrap:wrap;\n",
              "      gap: 12px;\n",
              "    }\n",
              "\n",
              "    .colab-df-convert {\n",
              "      background-color: #E8F0FE;\n",
              "      border: none;\n",
              "      border-radius: 50%;\n",
              "      cursor: pointer;\n",
              "      display: none;\n",
              "      fill: #1967D2;\n",
              "      height: 32px;\n",
              "      padding: 0 0 0 0;\n",
              "      width: 32px;\n",
              "    }\n",
              "\n",
              "    .colab-df-convert:hover {\n",
              "      background-color: #E2EBFA;\n",
              "      box-shadow: 0px 1px 2px rgba(60, 64, 67, 0.3), 0px 1px 3px 1px rgba(60, 64, 67, 0.15);\n",
              "      fill: #174EA6;\n",
              "    }\n",
              "\n",
              "    [theme=dark] .colab-df-convert {\n",
              "      background-color: #3B4455;\n",
              "      fill: #D2E3FC;\n",
              "    }\n",
              "\n",
              "    [theme=dark] .colab-df-convert:hover {\n",
              "      background-color: #434B5C;\n",
              "      box-shadow: 0px 1px 3px 1px rgba(0, 0, 0, 0.15);\n",
              "      filter: drop-shadow(0px 1px 2px rgba(0, 0, 0, 0.3));\n",
              "      fill: #FFFFFF;\n",
              "    }\n",
              "  </style>\n",
              "\n",
              "      <script>\n",
              "        const buttonEl =\n",
              "          document.querySelector('#df-844ad766-16c2-4ad8-aefe-82c8574fc06d button.colab-df-convert');\n",
              "        buttonEl.style.display =\n",
              "          google.colab.kernel.accessAllowed ? 'block' : 'none';\n",
              "\n",
              "        async function convertToInteractive(key) {\n",
              "          const element = document.querySelector('#df-844ad766-16c2-4ad8-aefe-82c8574fc06d');\n",
              "          const dataTable =\n",
              "            await google.colab.kernel.invokeFunction('convertToInteractive',\n",
              "                                                     [key], {});\n",
              "          if (!dataTable) return;\n",
              "\n",
              "          const docLinkHtml = 'Like what you see? Visit the ' +\n",
              "            '<a target=\"_blank\" href=https://colab.research.google.com/notebooks/data_table.ipynb>data table notebook</a>'\n",
              "            + ' to learn more about interactive tables.';\n",
              "          element.innerHTML = '';\n",
              "          dataTable['output_type'] = 'display_data';\n",
              "          await google.colab.output.renderOutput(dataTable, element);\n",
              "          const docLink = document.createElement('div');\n",
              "          docLink.innerHTML = docLinkHtml;\n",
              "          element.appendChild(docLink);\n",
              "        }\n",
              "      </script>\n",
              "    </div>\n",
              "  </div>\n",
              "  "
            ]
          },
          "metadata": {},
          "execution_count": 58
        }
      ]
    },
    {
      "cell_type": "code",
      "metadata": {
        "id": "FlHKLtewOPBz"
      },
      "source": [
        "#converting price to float for statistics purposes.\n",
        "property_data['price'] = property_data['price'].astype('float')"
      ],
      "execution_count": null,
      "outputs": []
    },
    {
      "cell_type": "code",
      "metadata": {
        "id": "0ErJ0g67ORLB",
        "outputId": "6486f636-4ec9-4e86-efc0-681eac7f0b13",
        "colab": {
          "base_uri": "https://localhost:8080/"
        }
      },
      "source": [
        "property_data['price'].dtypes"
      ],
      "execution_count": null,
      "outputs": [
        {
          "output_type": "execute_result",
          "data": {
            "text/plain": [
              "dtype('float64')"
            ]
          },
          "metadata": {},
          "execution_count": 48
        }
      ]
    },
    {
      "cell_type": "code",
      "metadata": {
        "id": "7DErn0eDOSyV",
        "outputId": "3fa6638b-b82f-4ad6-a208-c2a5f4fe3a58",
        "colab": {
          "base_uri": "https://localhost:8080/"
        }
      },
      "source": [
        "property_data.groupby(['postal_code','beds','baths'])['price'].mean()"
      ],
      "execution_count": null,
      "outputs": [
        {
          "output_type": "execute_result",
          "data": {
            "text/plain": [
              "postal_code  beds  baths\n",
              "10001        0     1        6.860714e+05\n",
              "             1     1        1.451652e+06\n",
              "                   2        1.433333e+06\n",
              "             2     1        1.064333e+06\n",
              "                   2        2.923333e+06\n",
              "                   3        4.861250e+06\n",
              "             3     3        2.550000e+06\n",
              "                   4        6.200000e+06\n",
              "             4     5        1.600000e+07\n",
              "             5     5        9.750000e+06\n",
              "10002        0     1        5.300000e+05\n",
              "             1     1        7.951875e+05\n",
              "                   2        2.650000e+06\n",
              "             2     1        7.311818e+05\n",
              "                   2        2.307625e+06\n",
              "             3     2        3.513000e+06\n",
              "                   3        4.201333e+06\n",
              "                   4        6.605000e+06\n",
              "             5     6        1.609500e+07\n",
              "10003        0     1        5.250000e+05\n",
              "             1     1        9.504073e+05\n",
              "                   2        3.250000e+06\n",
              "             2     2        2.531500e+06\n",
              "                   3        3.950000e+06\n",
              "             3     2        2.723750e+06\n",
              "10004        0     1        7.185000e+05\n",
              "             1     1        9.277000e+05\n",
              "                   2        9.875000e+05\n",
              "             2     1        1.100000e+06\n",
              "                   2        1.932600e+06\n",
              "                   3        3.022500e+06\n",
              "             3     3        3.470000e+06\n",
              "                   4        3.050000e+06\n",
              "             4     5        4.381667e+06\n",
              "Name: price, dtype: float64"
            ]
          },
          "metadata": {},
          "execution_count": 49
        }
      ]
    },
    {
      "cell_type": "code",
      "metadata": {
        "id": "jCOYQwzCOU7_",
        "outputId": "2b019d2c-cc4f-4272-fd03-e1b60e28777a",
        "colab": {
          "base_uri": "https://localhost:8080/",
          "height": 351
        }
      },
      "source": [
        "property_data.groupby(['postal_code','beds'])['price'].median().plot(kind='bar')"
      ],
      "execution_count": null,
      "outputs": [
        {
          "output_type": "execute_result",
          "data": {
            "text/plain": [
              "<matplotlib.axes._subplots.AxesSubplot at 0x7fbfaf2ed610>"
            ]
          },
          "metadata": {},
          "execution_count": 50
        },
        {
          "output_type": "display_data",
          "data": {
            "text/plain": [
              "<Figure size 432x288 with 1 Axes>"
            ],
            "image/png": "[encoded data removed]"
          },
          "metadata": {
            "needs_background": "light"
          }
        }
      ]
    },
    {
      "cell_type": "code",
      "metadata": {
        "id": "7UrpIjNtOXNV",
        "outputId": "b9bdb13d-6615-4d19-a19d-fd340e68e1cf",
        "colab": {
          "base_uri": "https://localhost:8080/",
          "height": 351
        }
      },
      "source": [
        "property_data.groupby(['postal_code','baths'])['price'].median().plot(kind='bar')"
      ],
      "execution_count": null,
      "outputs": [
        {
          "output_type": "execute_result",
          "data": {
            "text/plain": [
              "<matplotlib.axes._subplots.AxesSubplot at 0x7fbfabda9610>"
            ]
          },
          "metadata": {},
          "execution_count": 61
        },
        {
          "output_type": "display_data",
          "data": {
            "text/plain": [
              "<Figure size 432x288 with 1 Axes>"
            ],
            "image/png": "[encoded data removed]"
          },
          "metadata": {
            "needs_background": "light"
          }
        }
      ]
    },
    {
      "cell_type": "code",
      "source": [
        "property_data.groupby(['type'])['price'].median().plot(kind='bar')"
      ],
      "metadata": {
        "colab": {
          "base_uri": "https://localhost:8080/",
          "height": 356
        },
        "id": "BiirScpPSrJg",
        "outputId": "dc4fefef-a16b-42bb-aab4-7f0e957298d1"
      },
      "execution_count": null,
      "outputs": [
        {
          "output_type": "execute_result",
          "data": {
            "text/plain": [
              "<matplotlib.axes._subplots.AxesSubplot at 0x7fbfabd35d90>"
            ]
          },
          "metadata": {},
          "execution_count": 62
        },
        {
          "output_type": "display_data",
          "data": {
            "text/plain": [
              "<Figure size 432x288 with 1 Axes>"
            ],
            "image/png": "[encoded data removed]"
          },
          "metadata": {
            "needs_background": "light"
          }
        }
      ]
    },
    {
      "cell_type": "code",
      "source": [
        "property_data.groupby(['postal_code','sqft'])['price'].median().plot(kind='bar')"
      ],
      "metadata": {
        "colab": {
          "base_uri": "https://localhost:8080/",
          "height": 370
        },
        "id": "Viar8PIrbjc-",
        "outputId": "c6133e4e-000d-45f4-eaac-71f6bea8e57d"
      },
      "execution_count": null,
      "outputs": [
        {
          "output_type": "execute_result",
          "data": {
            "text/plain": [
              "<matplotlib.axes._subplots.AxesSubplot at 0x7fbfabc0b250>"
            ]
          },
          "metadata": {},
          "execution_count": 63
        },
        {
          "output_type": "display_data",
          "data": {
            "text/plain": [
              "<Figure size 432x288 with 1 Axes>"
            ],
            "image/png": "[encoded data removed]"
          },
          "metadata": {
            "needs_background": "light"
          }
        }
      ]
    },
    {
      "cell_type": "code",
      "metadata": {
        "id": "hT45zSDdOZeD",
        "outputId": "4e8c27cc-4cee-467c-954f-11c4c5fcc1b2",
        "colab": {
          "base_uri": "https://localhost:8080/",
          "height": 387
        }
      },
      "source": [
        "# Scatterplot arguments\n",
        "sns.lmplot(x='postal_code', y='price', data=property_data,\n",
        "           fit_reg=False, # No regression line\n",
        "           hue='type')"
      ],
      "execution_count": null,
      "outputs": [
        {
          "output_type": "execute_result",
          "data": {
            "text/plain": [
              "<seaborn.axisgrid.FacetGrid at 0x7fbfaf150910>"
            ]
          },
          "metadata": {},
          "execution_count": 53
        },
        {
          "output_type": "display_data",
          "data": {
            "text/plain": [
              "<Figure size 453.375x360 with 1 Axes>"
            ],
            "image/png": "[encoded data removed]"
          },
          "metadata": {
            "needs_background": "light"
          }
        }
      ]
    },
    {
      "cell_type": "code",
      "metadata": {
        "id": "V1AU-Dl1V465",
        "outputId": "d218d55f-9a2f-4a83-9701-7c13ee746349",
        "colab": {
          "base_uri": "https://localhost:8080/",
          "height": 348
        }
      },
      "source": [
        "g = sns.factorplot(x='postal_code',\n",
        "                   y='price',\n",
        "                   data=property_data,\n",
        "                   hue='baths',  # Color by baths\n",
        "                   col='beds',  # Separate by beds\n",
        "                   kind='swarm') # Swarmplot\n",
        "\n",
        "# Rotate x-axis labels\n",
        "g.set_xticklabels(rotation=-45)"
      ],
      "execution_count": null,
      "outputs": [
        {
          "output_type": "stream",
          "name": "stderr",
          "text": [
            "/usr/local/lib/python3.7/dist-packages/seaborn/categorical.py:3717: UserWarning: The `factorplot` function has been renamed to `catplot`. The original name will be removed in a future release. Please update your code. Note that the default `kind` in `factorplot` (`'point'`) has changed `'strip'` in `catplot`.\n",
            "  warnings.warn(msg)\n"
          ]
        },
        {
          "output_type": "execute_result",
          "data": {
            "text/plain": [
              "<seaborn.axisgrid.FacetGrid at 0x7fbfac5847d0>"
            ]
          },
          "metadata": {},
          "execution_count": 54
        },
        {
          "output_type": "display_data",
          "data": {
            "text/plain": [
              "<Figure size 2202.38x360 with 6 Axes>"
            ],
            "image/png": "[encoded data removed]"
          },
          "metadata": {
            "needs_background": "light"
          }
        }
      ]
    },
    {
      "cell_type": "markdown",
      "source": [
        "CORRELATION"
      ],
      "metadata": {
        "id": "oLi4NxQbbIkO"
      }
    },
    {
      "cell_type": "code",
      "source": [
        "property_corr = property_data.corr()"
      ],
      "metadata": {
        "id": "Mw9jaEkrbHx-"
      },
      "execution_count": null,
      "outputs": []
    },
    {
      "cell_type": "code",
      "source": [
        "property_corr['price'].sort_values()"
      ],
      "metadata": {
        "colab": {
          "base_uri": "https://localhost:8080/"
        },
        "id": "WMCKTPzjyFVk",
        "outputId": "0e763d87-2167-446e-9d16-4dd352596a65"
      },
      "execution_count": null,
      "outputs": [
        {
          "output_type": "execute_result",
          "data": {
            "text/plain": [
              "postal_code   -0.181742\n",
              "beds           0.720270\n",
              "sqft           0.824686\n",
              "baths          0.844189\n",
              "price          1.000000\n",
              "Name: price, dtype: float64"
            ]
          },
          "metadata": {},
          "execution_count": 56
        }
      ]
    },
    {
      "cell_type": "code",
      "source": [
        "from IPython.core.pylabtools import figsize\n",
        "fig, ax = plt.subplots(figsize=(10,10))\n",
        "sns.heatmap(property_corr,vmax=1.0, linewidths=0.5, annot=True,square=True, center=0)"
      ],
      "metadata": {
        "colab": {
          "base_uri": "https://localhost:8080/",
          "height": 597
        },
        "id": "hAO35hiyyUks",
        "outputId": "8e786f5f-b93e-439f-87f4-8f144d5aaed4"
      },
      "execution_count": null,
      "outputs": [
        {
          "output_type": "execute_result",
          "data": {
            "text/plain": [
              "<matplotlib.axes._subplots.AxesSubplot at 0x7fbfac1e4a90>"
            ]
          },
          "metadata": {},
          "execution_count": 57
        },
        {
          "output_type": "display_data",
          "data": {
            "text/plain": [
              "<Figure size 720x720 with 2 Axes>"
            ],
            "image/png": "[encoded data removed]"
          },
          "metadata": {
            "needs_background": "light"
          }
        }
      ]
    }
  ]
}